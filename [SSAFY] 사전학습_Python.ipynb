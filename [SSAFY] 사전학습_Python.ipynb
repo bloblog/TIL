{
  "nbformat": 4,
  "nbformat_minor": 0,
  "metadata": {
    "colab": {
      "provenance": [],
      "authorship_tag": "ABX9TyOg8mkEwQxLic9zcSwTE05v",
      "include_colab_link": true
    },
    "kernelspec": {
      "name": "python3",
      "display_name": "Python 3"
    },
    "language_info": {
      "name": "python"
    }
  },
  "cells": [
    {
      "cell_type": "markdown",
      "metadata": {
        "id": "view-in-github",
        "colab_type": "text"
      },
      "source": [
        "<a href=\"https://colab.research.google.com/github/bloblog/TIL/blob/main/%5BSSAFY%5D%20%EC%82%AC%EC%A0%84%ED%95%99%EC%8A%B5_Python.ipynb\" target=\"_parent\"><img src=\"https://colab.research.google.com/assets/colab-badge.svg\" alt=\"Open In Colab\"/></a>"
      ]
    },
    {
      "cell_type": "code",
      "source": [
        "# divmod 함수\n",
        "\n",
        "print(divmod(50, 8))\n",
        "print(type(divmod(50, 8)))"
      ],
      "metadata": {
        "colab": {
          "base_uri": "https://localhost:8080/"
        },
        "id": "Qep31CIo48tx",
        "outputId": "8cf7acf3-c902-4eed-ef91-06f63964db89"
      },
      "execution_count": null,
      "outputs": [
        {
          "output_type": "stream",
          "name": "stdout",
          "text": [
            "(6, 2)\n",
            "<class 'tuple'>\n"
          ]
        }
      ]
    },
    {
      "cell_type": "code",
      "source": [
        "num = int(input())\n",
        "print(num**2)"
      ],
      "metadata": {
        "colab": {
          "base_uri": "https://localhost:8080/"
        },
        "id": "8XNY6jQO6caI",
        "outputId": "d90dfcc1-8efe-48fc-b0a2-11aa4dea2591"
      },
      "execution_count": null,
      "outputs": [
        {
          "output_type": "stream",
          "name": "stdout",
          "text": [
            "3\n",
            "9\n"
          ]
        }
      ]
    },
    {
      "cell_type": "code",
      "source": [
        "num = int(input())\n",
        "i = 0\n",
        "while i < num:\n",
        "  print('', num)\n",
        "  i += 1"
      ],
      "metadata": {
        "colab": {
          "base_uri": "https://localhost:8080/"
        },
        "id": "UjXGR2AeKi0s",
        "outputId": "20ac144e-3838-4c21-c7d6-c6094c19cc0d"
      },
      "execution_count": null,
      "outputs": [
        {
          "output_type": "stream",
          "name": "stdout",
          "text": [
            "5\n",
            " 5\n",
            " 5\n",
            " 5\n",
            " 5\n",
            " 5\n"
          ]
        }
      ]
    },
    {
      "cell_type": "code",
      "source": [
        "num = int(input())\n",
        "i = 0\n",
        "while i < num:\n",
        "  i += 1\n",
        "  print(i, i**2)"
      ],
      "metadata": {
        "id": "8Sp9WMxE9Qpq",
        "colab": {
          "base_uri": "https://localhost:8080/"
        },
        "outputId": "c0b00c55-6a3b-42f1-d8b1-0b05d8e69568"
      },
      "execution_count": null,
      "outputs": [
        {
          "output_type": "stream",
          "name": "stdout",
          "text": [
            "3\n",
            "1 1\n",
            "2 4\n",
            "3 9\n"
          ]
        }
      ]
    },
    {
      "cell_type": "code",
      "source": [
        "h = 100\n",
        "i = 1\n",
        "\n",
        "while i <= 10:\n",
        "  h *= 0.6\n",
        "  print(i, round(h, 4))\n",
        "  i += 1"
      ],
      "metadata": {
        "colab": {
          "base_uri": "https://localhost:8080/"
        },
        "id": "J3l3_AULLEOp",
        "outputId": "c793c5fc-0c78-4760-c74a-20ad6dd9f250"
      },
      "execution_count": null,
      "outputs": [
        {
          "output_type": "stream",
          "name": "stdout",
          "text": [
            "1 60.0\n",
            "2 36.0\n",
            "3 21.6\n",
            "4 12.96\n",
            "5 7.776\n",
            "6 4.6656\n",
            "7 2.7994\n",
            "8 1.6796\n",
            "9 1.0078\n",
            "10 0.6047\n"
          ]
        }
      ]
    },
    {
      "cell_type": "code",
      "source": [
        "number = 358\n",
        "\n",
        "rem = rev = 0\n",
        "while number >= 1:\n",
        "    rem = number % 10\n",
        "    rev = rev * 10 + rem\n",
        "    number = number // 10\n",
        "\n",
        "print(rev)"
      ],
      "metadata": {
        "colab": {
          "base_uri": "https://localhost:8080/"
        },
        "id": "Ayat-MVkMPHq",
        "outputId": "b616e1a3-6b83-4373-b972-98e64deb9d24"
      },
      "execution_count": null,
      "outputs": [
        {
          "output_type": "stream",
          "name": "stdout",
          "text": [
            "853\n"
          ]
        }
      ]
    },
    {
      "cell_type": "code",
      "source": [
        "max = 10\n",
        "\n",
        "while True: # False 나오지 않으면 계속 반복하라.\n",
        "    num = int(input())\n",
        "    if num > max:\n",
        "        print(num, 'is too big!')\n",
        "        break"
      ],
      "metadata": {
        "colab": {
          "base_uri": "https://localhost:8080/"
        },
        "id": "J2WceMuQMPqY",
        "outputId": "a04536f7-b9ea-4830-e88e-b8c2a9540b3a"
      },
      "execution_count": null,
      "outputs": [
        {
          "output_type": "stream",
          "name": "stdout",
          "text": [
            "9\n",
            "12\n",
            "12 is too big!\n"
          ]
        }
      ]
    },
    {
      "cell_type": "code",
      "source": [
        "# 2.2.1 연습 문제: 숫자 읽기(1~3)\n",
        "\n",
        "while True:\n",
        "  num = int(input())\n",
        "  if num == 1:\n",
        "    print('일')\n",
        "    break\n",
        "  elif num == 2:\n",
        "    print('이')\n",
        "    break\n",
        "  elif num == 3:\n",
        "    print('삼')\n",
        "    break\n",
        "  else:\n",
        "    print('1 이상 3 이하의 정수 중 하나를 입력해주세요.')"
      ],
      "metadata": {
        "colab": {
          "base_uri": "https://localhost:8080/"
        },
        "id": "QD7gWHsfMtw_",
        "outputId": "207f2574-0a15-4d4e-c9ad-0ee4310b60f9"
      },
      "execution_count": null,
      "outputs": [
        {
          "output_type": "stream",
          "name": "stdout",
          "text": [
            "4\n",
            "1 이상 3 이하의 정수 중 하나를 입력해주세요.\n",
            "1\n",
            "일\n"
          ]
        }
      ]
    },
    {
      "cell_type": "code",
      "source": [
        "# generations1\n",
        "\n",
        "year = int(input('What year were you born? '))\n",
        "\n",
        "if year <= 1924:\n",
        "  print(\"You're the Greatest Generation.\")\n",
        "elif 1925 <= year <= 1945: # if-elif-else 는 순서대로 진행되기 때문에 ~ 이상은 없어도 됨.\n",
        "  print(\"You're the Silent Generation.\")\n",
        "elif 1946 <= year <= 1964:\n",
        "  print(\"You're a baby boomer.\")\n",
        "elif 1965 <= year <= 1980:\n",
        "  print(\"You're a Gen X.\")\n",
        "elif 1981 <= year <= 1996:\n",
        "  print(\"You're a millennial.\")\n",
        "else:\n",
        "  print(\"You're a Gen Z.\")\n",
        "\n",
        "# print 반복보다는 변수 만들어서 f string 이용하는 게 깔끔!\n",
        "# e.g. print(f\"You're {gen}.\")\n"
      ],
      "metadata": {
        "colab": {
          "base_uri": "https://localhost:8080/"
        },
        "id": "ymMaqL5tNQsJ",
        "outputId": "db0c6f04-d7db-4e84-ddc8-8b543e66fa18"
      },
      "execution_count": null,
      "outputs": [
        {
          "output_type": "stream",
          "name": "stdout",
          "text": [
            "What year were you born? 1999\n",
            "You're a Gen Z.\n"
          ]
        }
      ]
    },
    {
      "cell_type": "code",
      "source": [
        "# affix\n",
        "\n",
        "num = int(input())\n",
        "result = str(num)\n",
        "\n",
        "if num >= 1000000000:\n",
        "  result = str(num // 1000000000) + 'G'\n",
        "elif num >= 1000000:\n",
        "  result = str(num // 1000000) + 'M'\n",
        "elif num >= 1000:\n",
        "  result = str(num // 1000) + 'k'\n",
        "elif num >= 0:\n",
        "  pass\n",
        "\n",
        "print(result)"
      ],
      "metadata": {
        "colab": {
          "base_uri": "https://localhost:8080/"
        },
        "id": "s3t1UhSROcQ2",
        "outputId": "bee39c59-85bc-436f-a094-33e9d3a176b6"
      },
      "execution_count": null,
      "outputs": [
        {
          "output_type": "stream",
          "name": "stdout",
          "text": [
            "1000000000\n",
            "1G\n"
          ]
        }
      ]
    },
    {
      "cell_type": "code",
      "source": [
        "# sum_positive\n",
        "\n",
        "num = 0\n",
        "result = 0\n",
        "\n",
        "while num >= 0:\n",
        "  result += num\n",
        "  num = int(input())\n",
        "\n",
        "print(result)"
      ],
      "metadata": {
        "colab": {
          "base_uri": "https://localhost:8080/"
        },
        "id": "NlENzDYSVhTy",
        "outputId": "d06a8236-3910-48de-8998-08861ef59b20"
      },
      "execution_count": null,
      "outputs": [
        {
          "output_type": "stream",
          "name": "stdout",
          "text": [
            "50\n",
            "60\n",
            "70\n",
            "-100\n",
            "180\n"
          ]
        }
      ]
    },
    {
      "cell_type": "code",
      "source": [
        "# leap_year\n",
        "\n",
        "year = int(input())\n",
        "result = \"평년\"\n",
        "\n",
        "if year % 400 == 0:\n",
        "  result = \"윤년\"\n",
        "elif year % 100 == 0:\n",
        "  result = \"평년\"\n",
        "elif year % 4 == 0:\n",
        "  result = \"윤년\"\n",
        "\n",
        "print(f'{year}년은 {result}입니다.')"
      ],
      "metadata": {
        "colab": {
          "base_uri": "https://localhost:8080/"
        },
        "id": "Pgf7L7a_WbqD",
        "outputId": "e6049013-caad-40a4-fd81-9e990e7ed588"
      },
      "execution_count": null,
      "outputs": [
        {
          "output_type": "stream",
          "name": "stdout",
          "text": [
            "2077\n",
            "2077년은 평년입니다.\n"
          ]
        }
      ]
    },
    {
      "cell_type": "code",
      "source": [
        "# generations2\n",
        "\n",
        "year = int(input('What year were you born? '))\n",
        "kor = input('Are you Korean?(y/n) ')\n",
        "kor = kor[0].lower()\n",
        "\n",
        "if year <= 1924:\n",
        "  print(\"You're the Greatest Generation.\")\n",
        "elif year <= 1945:\n",
        "  print(\"You're the Silent Generation.\")\n",
        "\n",
        "elif year <= 1964:\n",
        "  if kor == 'y' and year <= 1954:\n",
        "    print(\"You're the Silent Generation.\")\n",
        "  elif kor == 'y' and year == 1964:\n",
        "    print(\"You're a Gen X.\")\n",
        "  else:\n",
        "    print(\"You're a baby boomer.\")\n",
        "\n",
        "elif year <= 1980:\n",
        "  print(\"You're a Gen X.\")\n",
        "elif year <= 1996:\n",
        "  print(\"You're a millennial.\")\n",
        "else:\n",
        "  print(\"You're a Gen Z.\")"
      ],
      "metadata": {
        "colab": {
          "base_uri": "https://localhost:8080/"
        },
        "id": "W8l7mfSKXrKL",
        "outputId": "8f380aa9-4c5e-43bf-99c0-57445d9e8ca6"
      },
      "execution_count": null,
      "outputs": [
        {
          "output_type": "stream",
          "name": "stdout",
          "text": [
            "What year were you born? 1954\n",
            "Are you Korean?(y/n) yes\n",
            "You're the Silent Generation.\n"
          ]
        }
      ]
    },
    {
      "cell_type": "code",
      "source": [
        "# repeat_for\n",
        "\n",
        "num = int(input())\n",
        "\n",
        "for i in range(1, num+1):\n",
        "  print(i, i**2)"
      ],
      "metadata": {
        "colab": {
          "base_uri": "https://localhost:8080/"
        },
        "id": "0qALn5yacjkE",
        "outputId": "be22fa32-d5c0-42df-f1a7-743698f0998d"
      },
      "execution_count": null,
      "outputs": [
        {
          "output_type": "stream",
          "name": "stdout",
          "text": [
            "5\n",
            "1 1\n",
            "2 4\n",
            "3 9\n",
            "4 16\n",
            "5 25\n"
          ]
        }
      ]
    },
    {
      "cell_type": "code",
      "source": [
        "# chemical_lab\n",
        "\n",
        "min, max = input().split(' ')\n",
        "\n",
        "# map 함수 사용하기!\n",
        "# min, max = map(int, input().split())\n",
        "\n",
        "tem = [int(i) for i in input().split(' ')]\n",
        "\n",
        "for i in tem:\n",
        "  if i == -999:\n",
        "    break\n",
        "  elif i < int(min) or i > int(max):\n",
        "    print('Alert!')\n",
        "    break\n",
        "  else:\n",
        "    print('Nothing to report')"
      ],
      "metadata": {
        "colab": {
          "base_uri": "https://localhost:8080/"
        },
        "id": "m56h4IaldUU6",
        "outputId": "02997927-5983-4234-81c0-3c7f5bae12f0"
      },
      "execution_count": null,
      "outputs": [
        {
          "output_type": "stream",
          "name": "stdout",
          "text": [
            "0 100\n",
            "15 50 75 -999\n",
            "Nothing to report\n",
            "Nothing to report\n",
            "Nothing to report\n"
          ]
        }
      ]
    },
    {
      "cell_type": "code",
      "source": [
        "countdown = 5\n",
        "while countdown > 0:\n",
        "\tprint(countdown)\n",
        "\tcountdown -= 1\n",
        "\tif input() == '중단':\n",
        "\t\tbreak\n",
        "else:\n",
        "\tprint('발사!')"
      ],
      "metadata": {
        "colab": {
          "base_uri": "https://localhost:8080/"
        },
        "id": "IW0GEdXQeLgC",
        "outputId": "e71b4564-4b12-4663-df5a-6612517b7b62"
      },
      "execution_count": null,
      "outputs": [
        {
          "output_type": "stream",
          "name": "stdout",
          "text": [
            "5\n",
            "\n",
            "4\n",
            "\n",
            "3\n",
            "\n",
            "2\n",
            "\n",
            "1\n",
            "\n",
            "발사!\n"
          ]
        }
      ]
    },
    {
      "cell_type": "code",
      "source": [
        "def compare(x, y):\n",
        "  if x > y:\n",
        "    print(f'{x} > {y}')\n",
        "  elif x < y:\n",
        "    print(f'{x} < {y}')\n",
        "  else:\n",
        "    print(f'{x} == {y}')\n",
        "\n",
        "compare(1, 2)"
      ],
      "metadata": {
        "colab": {
          "base_uri": "https://localhost:8080/"
        },
        "id": "_-Pvj3YxigUO",
        "outputId": "1207bf9e-68bb-47ab-f80a-ceef7e45e87b"
      },
      "execution_count": null,
      "outputs": [
        {
          "output_type": "stream",
          "name": "stdout",
          "text": [
            "1 < 2\n"
          ]
        }
      ]
    },
    {
      "cell_type": "code",
      "source": [
        "256**4"
      ],
      "metadata": {
        "colab": {
          "base_uri": "https://localhost:8080/"
        },
        "id": "jARE7OcLjsU4",
        "outputId": "64937105-2616-4619-ea6c-a675b7d56d2a"
      },
      "execution_count": null,
      "outputs": [
        {
          "output_type": "execute_result",
          "data": {
            "text/plain": [
              "4294967296"
            ]
          },
          "metadata": {},
          "execution_count": 63
        }
      ]
    },
    {
      "cell_type": "code",
      "source": [
        "len(str(_)) # _ : 방금 리턴된 값"
      ],
      "metadata": {
        "colab": {
          "base_uri": "https://localhost:8080/"
        },
        "id": "t3Bz673okGhb",
        "outputId": "3d7fc557-0a0e-4ec1-90d3-90d150d6a9ea"
      },
      "execution_count": null,
      "outputs": [
        {
          "output_type": "execute_result",
          "data": {
            "text/plain": [
              "10"
            ]
          },
          "metadata": {},
          "execution_count": 64
        }
      ]
    },
    {
      "cell_type": "code",
      "source": [
        "# numdigits\n",
        "\n",
        "def numOfDigits(n):\n",
        "  if n <= 0:\n",
        "    print('양의 정수를 입력해주세요.')\n",
        "  else:\n",
        "    print(len(str(n)))\n",
        "\n",
        "numOfDigits(1234567890)"
      ],
      "metadata": {
        "colab": {
          "base_uri": "https://localhost:8080/"
        },
        "id": "Tup9QBl5kIF4",
        "outputId": "0c465858-9950-45bc-efd9-be3d089e0f2b"
      },
      "execution_count": null,
      "outputs": [
        {
          "output_type": "stream",
          "name": "stdout",
          "text": [
            "10\n"
          ]
        }
      ]
    },
    {
      "cell_type": "code",
      "source": [
        "def gugudan():\n",
        "  n = 2\n",
        "  while n < 10:\n",
        "    for i in range(1, 10):\n",
        "      print(f'{n} * {i} = {n*i}')\n",
        "    n += 1\n",
        "\n",
        "gugudan()"
      ],
      "metadata": {
        "id": "-QUhJ8gsk0Ja"
      },
      "execution_count": null,
      "outputs": []
    },
    {
      "cell_type": "code",
      "source": [
        "def triangle(bottom, height):\n",
        "  return bottom * height * 0.5\n",
        "\n",
        "print(triangle(3, 5))"
      ],
      "metadata": {
        "colab": {
          "base_uri": "https://localhost:8080/"
        },
        "id": "uDUHRcX8llI-",
        "outputId": "74e314b8-a25c-4f22-f0b2-c56ccb29962a"
      },
      "execution_count": null,
      "outputs": [
        {
          "output_type": "stream",
          "name": "stdout",
          "text": [
            "7.5\n"
          ]
        }
      ]
    },
    {
      "cell_type": "code",
      "source": [
        "def korean_number(n):\n",
        "  kor = ['일','이','삼','사','오','육','칠','팔','구','십']\n",
        "  num = range(1, 11)\n",
        "  if n in num:\n",
        "    return kor[n-1]\n",
        "  else:\n",
        "    return '1 이상 10 이하의 정수를 입력하세요.'\n",
        "\n",
        "korean_number(11)"
      ],
      "metadata": {
        "colab": {
          "base_uri": "https://localhost:8080/",
          "height": 36
        },
        "id": "r-t1N_Hgmf_U",
        "outputId": "263d8cfa-18f1-4087-a640-84e35f05521f"
      },
      "execution_count": null,
      "outputs": [
        {
          "output_type": "execute_result",
          "data": {
            "text/plain": [
              "'1 이상 10 이하의 정수를 입력하세요.'"
            ],
            "application/vnd.google.colaboratory.intrinsic+json": {
              "type": "string"
            }
          },
          "metadata": {},
          "execution_count": 79
        }
      ]
    },
    {
      "cell_type": "code",
      "source": [
        "# 연습문제 : 함수 정의하기\n",
        "def triple(x):\n",
        "  return x * 3\n",
        "\n",
        "triple('x')"
      ],
      "metadata": {
        "colab": {
          "base_uri": "https://localhost:8080/",
          "height": 36
        },
        "id": "s_JKjAqJoAbB",
        "outputId": "5bd5ff68-636a-4f33-d9f1-06a72463e5d0"
      },
      "execution_count": null,
      "outputs": [
        {
          "output_type": "execute_result",
          "data": {
            "text/plain": [
              "'xxx'"
            ],
            "application/vnd.google.colaboratory.intrinsic+json": {
              "type": "string"
            }
          },
          "metadata": {},
          "execution_count": 81
        }
      ]
    },
    {
      "cell_type": "code",
      "source": [
        "from datetime import datetime\n",
        "\n",
        "def korean_age(year):\n",
        "  today = datetime.today()\n",
        "  std = today.year\n",
        "  return std - year + 1\n",
        "\n",
        "korean_age(1999)"
      ],
      "metadata": {
        "colab": {
          "base_uri": "https://localhost:8080/"
        },
        "id": "QCJJFwHzoXUQ",
        "outputId": "38c2445a-852e-4d88-bca7-4d4deb2cf10c"
      },
      "execution_count": null,
      "outputs": [
        {
          "output_type": "execute_result",
          "data": {
            "text/plain": [
              "25"
            ]
          },
          "metadata": {},
          "execution_count": 84
        }
      ]
    },
    {
      "cell_type": "code",
      "source": [
        "# 연습문제 : 이자(단리) 계산\n",
        "\n",
        "def simple_interest(p, r, t):\n",
        "  return p*r*t\n",
        "\n",
        "simple_interest(1100000, 0.05, 5/12)"
      ],
      "metadata": {
        "colab": {
          "base_uri": "https://localhost:8080/"
        },
        "id": "LONYcgiKo3-S",
        "outputId": "42147ed3-8153-4122-bd9c-f106cef6c51f"
      },
      "execution_count": null,
      "outputs": [
        {
          "output_type": "execute_result",
          "data": {
            "text/plain": [
              "22916.666666666668"
            ]
          },
          "metadata": {},
          "execution_count": 87
        }
      ]
    },
    {
      "cell_type": "code",
      "source": [
        "def simple_interest_amount(p, r, t):\n",
        "  return p * (1 + r*t)\n",
        "\n",
        "simple_interest_amount(1100000, 0.05, 5/12)"
      ],
      "metadata": {
        "colab": {
          "base_uri": "https://localhost:8080/"
        },
        "id": "RJYbaN_B_PBc",
        "outputId": "7aa9dbff-1b81-4833-e364-a550a12d843e"
      },
      "execution_count": null,
      "outputs": [
        {
          "output_type": "execute_result",
          "data": {
            "text/plain": [
              "1122916.6666666665"
            ]
          },
          "metadata": {},
          "execution_count": 90
        }
      ]
    },
    {
      "cell_type": "code",
      "source": [
        "# 연습문제 : 이자(복리) 계산\n",
        "\n",
        "def compound_interest_amount(p, r, t, n):\n",
        "  return p * (1+r/n) ** (n*t)\n",
        "\n",
        "print('t=6 n=4')\n",
        "print(compound_interest_amount(1500000, 0.043, 6, 4))\n",
        "print('-----')\n",
        "print('t=6 n=1/2')\n",
        "print(compound_interest_amount(1500000, 0.043, 6, 1/2))"
      ],
      "metadata": {
        "colab": {
          "base_uri": "https://localhost:8080/"
        },
        "id": "LOI_WFyQ_bjX",
        "outputId": "513b0ec4-e94f-4ac1-fea5-e1d2eb722262"
      },
      "execution_count": null,
      "outputs": [
        {
          "output_type": "stream",
          "name": "stdout",
          "text": [
            "t=6 n=4\n",
            "1938836.8221341055\n",
            "-----\n",
            "t=6 n=1/2\n",
            "1921236.0840000005\n"
          ]
        }
      ]
    },
    {
      "cell_type": "code",
      "source": [
        "from functools import reduce\n",
        "reduce(lambda x, y: x + y, [0, 1, 2, 3, 4])"
      ],
      "metadata": {
        "colab": {
          "base_uri": "https://localhost:8080/"
        },
        "id": "q5NSt_VMAmIb",
        "outputId": "5019f41c-8330-40f5-b21a-2f58629c88a4"
      },
      "execution_count": null,
      "outputs": [
        {
          "output_type": "execute_result",
          "data": {
            "text/plain": [
              "10"
            ]
          },
          "metadata": {},
          "execution_count": 118
        }
      ]
    },
    {
      "cell_type": "code",
      "source": [
        "from functools import reduce\n",
        "reduce(lambda x, y: print(y, x), 'abcde')\n",
        "\n",
        "# 첫 번째 결과가 다음 순서에서 x로 들어간다!\n",
        "# -------\n",
        "# b a\n",
        "# c ba\n",
        "# d cba\n",
        "# e dcba\n",
        "# -------\n",
        "# 결과 : edcba"
      ],
      "metadata": {
        "colab": {
          "base_uri": "https://localhost:8080/"
        },
        "id": "pe5OsXt0ECA5",
        "outputId": "f8fd7ca9-0984-4dff-e453-d06c7b60cc39"
      },
      "execution_count": null,
      "outputs": [
        {
          "output_type": "stream",
          "name": "stdout",
          "text": [
            "b a\n",
            "c None\n",
            "d None\n",
            "e None\n"
          ]
        }
      ]
    },
    {
      "cell_type": "code",
      "source": [
        "def read(text):\n",
        "    ridename = text.split(':')[0]\n",
        "    cm_text = text.split(':')[1]\n",
        "\n",
        "    cm = list(map(lambda x: x.strip(), cm_text.split('cm')))\n",
        "    if cm_text.strip() == '-':\n",
        "      cmmin = None\n",
        "      cmmax = None\n",
        "    elif cm[1][0] == '~':\n",
        "      cmmin = cm[0]\n",
        "      cmmax = cm[1][1:]\n",
        "    elif cm[1] == '이상' or cm[1] == '이하':\n",
        "      if cm[1] == '이상':\n",
        "        cmmin = cm[0]\n",
        "        cmmax = None\n",
        "      else:\n",
        "        cmmin = None\n",
        "        cmmax = cm[0]\n",
        "\n",
        "    return ridename, cmmin, cmmax\n",
        "\n",
        "if __name__ == \"__main__\":\n",
        "    ridename, cmmin, cmmax = read(input())\n",
        "    print(\"이름:\", ridename)\n",
        "    print(\"하한:\", cmmin)\n",
        "    print(\"상한:\", cmmax)"
      ],
      "metadata": {
        "colab": {
          "base_uri": "https://localhost:8080/"
        },
        "id": "wWlLQFCaEFV8",
        "outputId": "c80bff5a-df13-49fc-b461-bb9908284693"
      },
      "execution_count": 20,
      "outputs": [
        {
          "output_type": "stream",
          "name": "stdout",
          "text": [
            "플라이벤처: 140cm~195cm\n",
            "이름: 플라이벤처\n",
            "하한: 140\n",
            "상한: 195\n"
          ]
        }
      ]
    },
    {
      "cell_type": "code",
      "source": [
        "# 회문 판별 함수\n",
        "# 회문 = 거꾸로 배열해도 같은 단어나 문장이 되는 것\n",
        "\n",
        "def palindrome(s):\n",
        "  if s == s[::-1]:\n",
        "    return True\n",
        "  else:\n",
        "    return False\n",
        "\n",
        "palindrome('banana')"
      ],
      "metadata": {
        "id": "ILHsQmFKJAlf",
        "colab": {
          "base_uri": "https://localhost:8080/"
        },
        "outputId": "8325cf85-9edf-4f57-d4bc-6507bc169084"
      },
      "execution_count": 23,
      "outputs": [
        {
          "output_type": "execute_result",
          "data": {
            "text/plain": [
              "False"
            ]
          },
          "metadata": {},
          "execution_count": 23
        }
      ]
    },
    {
      "cell_type": "code",
      "source": [
        "# 대소문자 구분 없이 판정하기\n",
        "\n",
        "def palindrome(s):\n",
        "  if s.lower() == s[::-1].lower():\n",
        "    return True\n",
        "  else:\n",
        "    return False\n",
        "\n",
        "palindrome('Anna')"
      ],
      "metadata": {
        "colab": {
          "base_uri": "https://localhost:8080/"
        },
        "id": "TU_exYXBlXkL",
        "outputId": "d7a837b0-c0f8-4d5f-8261-dd0b0be41612"
      },
      "execution_count": 24,
      "outputs": [
        {
          "output_type": "execute_result",
          "data": {
            "text/plain": [
              "True"
            ]
          },
          "metadata": {},
          "execution_count": 24
        }
      ]
    },
    {
      "cell_type": "code",
      "source": [
        "# 공백 무시하고 판정하기\n",
        "\n",
        "def palindrome(s):\n",
        "  s = s.lower().replace(' ', '')\n",
        "  rev = s[::-1].lower().replace(' ', '')\n",
        "  if s == rev:\n",
        "    return True\n",
        "  else:\n",
        "    return False\n",
        "\n",
        "palindrome('My gym')"
      ],
      "metadata": {
        "colab": {
          "base_uri": "https://localhost:8080/"
        },
        "id": "FKQCB0bQlklk",
        "outputId": "f1126f75-b29f-4350-cabd-7a9367594e2a"
      },
      "execution_count": 26,
      "outputs": [
        {
          "output_type": "execute_result",
          "data": {
            "text/plain": [
              "True"
            ]
          },
          "metadata": {},
          "execution_count": 26
        }
      ]
    },
    {
      "cell_type": "code",
      "source": [
        "# 공백 무시하고 판정하기\n",
        "# 좀 더 깔끔한 버전\n",
        "\n",
        "def palindrome(s):\n",
        "  s = s.lower().replace(' ', '')\n",
        "  rev = s[::-1].lower().replace(' ', '')\n",
        "\n",
        "  return s == rev\n",
        "\n",
        "palindrome('My gym')"
      ],
      "metadata": {
        "colab": {
          "base_uri": "https://localhost:8080/"
        },
        "id": "Lc2sSTAdl8_n",
        "outputId": "4c7d370d-7bf2-4839-b6cb-074c096cd1ef"
      },
      "execution_count": 27,
      "outputs": [
        {
          "output_type": "execute_result",
          "data": {
            "text/plain": [
              "True"
            ]
          },
          "metadata": {},
          "execution_count": 27
        }
      ]
    },
    {
      "cell_type": "code",
      "source": [
        "s = 'banana'\n",
        "s.find('n')"
      ],
      "metadata": {
        "colab": {
          "base_uri": "https://localhost:8080/"
        },
        "id": "0LhoIafDmOAr",
        "outputId": "16baea55-157a-46f8-fe11-f50c3d5df965"
      },
      "execution_count": 32,
      "outputs": [
        {
          "output_type": "execute_result",
          "data": {
            "text/plain": [
              "2"
            ]
          },
          "metadata": {},
          "execution_count": 32
        }
      ]
    },
    {
      "cell_type": "code",
      "source": [
        "chulsu = [90, 85, 70]\n",
        "younghee = [88, 79, 92]\n",
        "yong = [100, 100, 100]\n",
        "minsu = [90, 60, 70]"
      ],
      "metadata": {
        "id": "rhjoz_dsoRk2"
      },
      "execution_count": 33,
      "outputs": []
    },
    {
      "cell_type": "code",
      "source": [
        "students = [chulsu, younghee, yong, minsu]"
      ],
      "metadata": {
        "id": "089yCrTHoVh9"
      },
      "execution_count": 34,
      "outputs": []
    },
    {
      "cell_type": "code",
      "source": [
        "for scores in students:\n",
        "     total = 0\n",
        "     for s in scores:\n",
        "         total = total + s\n",
        "     average = total / 3\n",
        "     print(scores, total, average)"
      ],
      "metadata": {
        "colab": {
          "base_uri": "https://localhost:8080/"
        },
        "id": "AWyKktRFm4vK",
        "outputId": "7e119adc-a5ef-47d2-adc9-60228ade60c6"
      },
      "execution_count": 35,
      "outputs": [
        {
          "output_type": "stream",
          "name": "stdout",
          "text": [
            "[90, 85, 70] 245 81.66666666666667\n",
            "[88, 79, 92] 259 86.33333333333333\n",
            "[100, 100, 100] 300 100.0\n",
            "[90, 60, 70] 220 73.33333333333333\n"
          ]
        }
      ]
    },
    {
      "cell_type": "code",
      "source": [
        "# 각 자리 숫자의 합을 구하는 함수\n",
        "\n",
        "def sumOfDigits(num):\n",
        "  int_list = list(map(lambda x: int(x), list(str(num))))\n",
        "  return sum(int_list)\n",
        "\n",
        "sumOfDigits(47253)"
      ],
      "metadata": {
        "colab": {
          "base_uri": "https://localhost:8080/"
        },
        "id": "j2NDiZXaoXY8",
        "outputId": "61924434-27cd-4928-8305-8dba7e1a8042"
      },
      "execution_count": 64,
      "outputs": [
        {
          "output_type": "execute_result",
          "data": {
            "text/plain": [
              "21"
            ]
          },
          "metadata": {},
          "execution_count": 64
        }
      ]
    },
    {
      "cell_type": "code",
      "source": [
        "# 줄기와 잎 그림\n",
        "\n",
        "score = [0, 0, 2, 4, 7, 7, 9, 11, 11, 13, 18, 20]\n",
        "stem_leaf = [[], [], []]\n",
        "new_score = []\n",
        "\n",
        "for i in list(map(lambda x: str(x), score)):\n",
        "  if len(i) == 1:\n",
        "    new_score.append('0' + i)\n",
        "  else:\n",
        "    new_score.append(i)\n",
        "\n",
        "for i in new_score:\n",
        "  if i[0] == '0':\n",
        "    stem_leaf[0].append(int(i[1]))\n",
        "  elif i[0] == '1':\n",
        "    stem_leaf[1].append(int(i[1]))\n",
        "  else:\n",
        "    stem_leaf[2].append(int(i[1]))\n",
        "\n",
        "stem_leaf"
      ],
      "metadata": {
        "colab": {
          "base_uri": "https://localhost:8080/"
        },
        "id": "hgp0SSxIomDU",
        "outputId": "ba9a2144-0c13-41f4-83bf-221eb00b5f9d"
      },
      "execution_count": 62,
      "outputs": [
        {
          "output_type": "execute_result",
          "data": {
            "text/plain": [
              "[[0, 0, 2, 4, 7, 7, 9], [1, 1, 3, 8], [0]]"
            ]
          },
          "metadata": {},
          "execution_count": 62
        }
      ]
    },
    {
      "cell_type": "code",
      "source": [
        "# 줄기와 잎 그림\n",
        "\n",
        "score = [0, 0, 2, 4, 7, 7, 9, 11, 11, 13, 18, 20]\n",
        "stem_leaf = [[], [], []]\n",
        "new_score = []\n",
        "\n",
        "for i in list(map(lambda x: str(x), score)):\n",
        "  if len(i) == 1:\n",
        "    new_score.append('0' + i)\n",
        "  else:\n",
        "    new_score.append(i)\n",
        "\n",
        "for i in new_score:\n",
        "  if i[0] == '0':\n",
        "    stem_leaf[0].append(int(i[1]))\n",
        "  elif i[0] == '1':\n",
        "    stem_leaf[1].append(int(i[1]))\n",
        "  else:\n",
        "    stem_leaf[2].append(int(i[1]))\n",
        "\n",
        "# 추가 문제\n",
        "for idx, i in enumerate(stem_leaf):\n",
        "  print(f'{idx}: {i}')"
      ],
      "metadata": {
        "colab": {
          "base_uri": "https://localhost:8080/"
        },
        "id": "7kR4mHNOr_PC",
        "outputId": "d108d610-bfef-4b30-8905-e6e5b16a1b0f"
      },
      "execution_count": 63,
      "outputs": [
        {
          "output_type": "stream",
          "name": "stdout",
          "text": [
            "0: [0, 0, 2, 4, 7, 7, 9]\n",
            "1: [1, 1, 3, 8]\n",
            "2: [0]\n"
          ]
        }
      ]
    },
    {
      "cell_type": "code",
      "source": [
        "# 소수 구하기\n",
        "\n",
        "# 실행시간 비교 코드 추가\n",
        "from time import process_time\n",
        "\n",
        "def prime(n):\n",
        "  num_list = list(range(2, n+1))\n",
        "  for i in range(2, n+1):\n",
        "    for j in num_list:\n",
        "      if j != i and j % i == 0:\n",
        "        num_list.remove(j)\n",
        "  return num_list\n",
        "\n",
        "start = process_time()\n",
        "print(prime(10))\n",
        "end = process_time()\n",
        "print('elapsed:', end - start)"
      ],
      "metadata": {
        "colab": {
          "base_uri": "https://localhost:8080/"
        },
        "id": "edV-IHBKtCk1",
        "outputId": "d9e44af3-b93c-4056-f320-b3f37361747a"
      },
      "execution_count": 92,
      "outputs": [
        {
          "output_type": "stream",
          "name": "stdout",
          "text": [
            "[2, 3, 5, 7]\n",
            "elapsed: 0.0011226749999977415\n"
          ]
        }
      ]
    },
    {
      "cell_type": "code",
      "source": [
        "def prime(n):\n",
        "    L = list(range(2, n + 1))\n",
        "    L2 = L[:]\n",
        "\n",
        "    for p in L:\n",
        "        for q in L:\n",
        "            if (q in L2) and (q != p and q % p == 0):\n",
        "                L2.remove(q)\n",
        "    return L2\n",
        "\n",
        "\n",
        "start = process_time()\n",
        "print(prime(10))\n",
        "end = process_time()\n",
        "print('elapsed:', end - start)"
      ],
      "metadata": {
        "colab": {
          "base_uri": "https://localhost:8080/"
        },
        "id": "3e2n-TAOulO1",
        "outputId": "c1acfa34-86a6-4a2b-aa8a-a1cf8574bac2"
      },
      "execution_count": 93,
      "outputs": [
        {
          "output_type": "stream",
          "name": "stdout",
          "text": [
            "[2, 3, 5, 7]\n",
            "elapsed: 0.00022522399999758136\n"
          ]
        }
      ]
    },
    {
      "cell_type": "code",
      "source": [
        "from math import sqrt\n",
        "\n",
        "def prime(n):\n",
        "    N = list(range(2, n + 1))\n",
        "\n",
        "    i = 0\n",
        "    while i <= sqrt(n) and len(N) > i:\n",
        "        #print('\\ncheck multiple of ', N[i])\n",
        "        j = i\n",
        "        while i <= j <= n and len(N) > j:\n",
        "            #print(f'N[{j}]: {N[j]}', end='')\n",
        "            if N[j] != N[i] and N[j] % N[i] == 0:\n",
        "                del N[j]\n",
        "                #print(' <= deleted')\n",
        "                if len(N) == j:\n",
        "                    break\n",
        "            else:\n",
        "                #print('')\n",
        "                j += 1\n",
        "        if len(N) == i:\n",
        "            break\n",
        "        else:\n",
        "            i += 1\n",
        "    return N\n",
        "\n",
        "start = process_time()\n",
        "print(prime(10))\n",
        "end = process_time()\n",
        "print('elapsed:', end - start)"
      ],
      "metadata": {
        "colab": {
          "base_uri": "https://localhost:8080/"
        },
        "id": "VB_MHUM3v3yX",
        "outputId": "270233f8-c971-4a88-c986-34944926c242"
      },
      "execution_count": 94,
      "outputs": [
        {
          "output_type": "stream",
          "name": "stdout",
          "text": [
            "[2, 3, 5, 7]\n",
            "elapsed: 0.001814169000006416\n"
          ]
        }
      ]
    },
    {
      "cell_type": "code",
      "source": [
        "# 진법 변환\n",
        "\n",
        "def binary(n):\n",
        "  div = [n, 0]\n",
        "  result = []\n",
        "  while div[0] > 0:\n",
        "    div = divmod(div[0], 2)\n",
        "    result.append(div[1])\n",
        "  return result[::-1]\n",
        "\n",
        "start = process_time()\n",
        "binary(87)\n",
        "end = process_time()\n",
        "print('elapsed:', end - start)\n"
      ],
      "metadata": {
        "colab": {
          "base_uri": "https://localhost:8080/"
        },
        "id": "61-4dWe3wNV2",
        "outputId": "8ef56e1c-0f38-4ca7-d155-d0446a431e4f"
      },
      "execution_count": 106,
      "outputs": [
        {
          "output_type": "stream",
          "name": "stdout",
          "text": [
            "elapsed: 0.00011203500000078748\n"
          ]
        }
      ]
    },
    {
      "cell_type": "code",
      "source": [
        "# 더 빠른 버전\n",
        "\n",
        "def binary(d):\n",
        "  m = d\n",
        "  b = []\n",
        "\n",
        "  while True:\n",
        "      d, m = divmod(d, 2)\n",
        "      b.insert(0, m)\n",
        "      if d == 0:\n",
        "          break\n",
        "  return b\n",
        "\n",
        "start = process_time()\n",
        "binary(87)\n",
        "end = process_time()\n",
        "print('elapsed:', end - start)"
      ],
      "metadata": {
        "colab": {
          "base_uri": "https://localhost:8080/"
        },
        "id": "Lz-WfIOpxVGW",
        "outputId": "3894df08-60c8-4d70-d1e4-d631b808f877"
      },
      "execution_count": 107,
      "outputs": [
        {
          "output_type": "stream",
          "name": "stdout",
          "text": [
            "elapsed: 8.580400000113286e-05\n"
          ]
        }
      ]
    },
    {
      "cell_type": "code",
      "source": [
        "# tomorrow\n",
        "\n",
        "def tomorrow(date):\n",
        "  yyyy, mm, dd = map(int, date.split(' '))\n",
        "  print(f'{mm:02d}/{dd:02d}/{yyyy}')\n",
        "\n",
        "  if mm == 12 and dd == 31:\n",
        "    yyyy += 1\n",
        "    mm, dd = 1, 1\n",
        "  elif mm == 2 and dd == 28:\n",
        "    mm, dd = mm+1, 1\n",
        "  elif mm in [1,3,5,7,8,10] and dd == 31:\n",
        "    mm, dd = mm+1, 1\n",
        "  elif mm in [4,6,9,11] and dd == 30:\n",
        "    mm, dd = mm+1, 1\n",
        "  else:\n",
        "    dd += 1\n",
        "\n",
        "  print(f'{mm:02d}/{dd:02d}/{yyyy}')\n",
        "\n",
        "tomorrow(\"2018 12 31\")"
      ],
      "metadata": {
        "colab": {
          "base_uri": "https://localhost:8080/"
        },
        "id": "ku5O0r_PxwyM",
        "outputId": "e71edafc-4f52-4122-db5b-4a61230ea781"
      },
      "execution_count": 129,
      "outputs": [
        {
          "output_type": "stream",
          "name": "stdout",
          "text": [
            "12/31/2018\n",
            "01/01/2019\n"
          ]
        }
      ]
    },
    {
      "cell_type": "code",
      "source": [
        "# 숫자 읽기 (0~9)\n",
        "\n",
        "def korean_number(n):\n",
        "  kor = ['영','일','이','삼','사','오','육','칠','팔','구']\n",
        "  num = list(range(10))\n",
        "  dic = dict(zip(num, kor))\n",
        "\n",
        "  return dic[n]\n",
        "\n",
        "korean_number(9)"
      ],
      "metadata": {
        "colab": {
          "base_uri": "https://localhost:8080/",
          "height": 36
        },
        "id": "eGlowoIx6UR9",
        "outputId": "9991962c-8ad8-43a2-9d14-2040f77a7d0f"
      },
      "execution_count": 133,
      "outputs": [
        {
          "output_type": "execute_result",
          "data": {
            "text/plain": [
              "'구'"
            ],
            "application/vnd.google.colaboratory.intrinsic+json": {
              "type": "string"
            }
          },
          "metadata": {},
          "execution_count": 133
        }
      ]
    },
    {
      "cell_type": "code",
      "source": [
        "# 한자성어\n",
        "\n",
        "dic = {'江湖之樂(강호지락)' : '자연을 벗 삼아 누리는 즐거움'\n",
        "        , '欲速不達(욕속부달)' : '빨리 하고자 하면 이루지 못함'\n",
        "        , '積小成大(적소성대)' : '작은 것을 쌓아 큰 것을 이룸'\n",
        "        , '勤儉節約(근검절약)' : '부지런하고 알뜰하게 재물을 아낌'\n",
        "        , '經世濟民(경세제민)' : '세상을 다스리고 백성을 구제함'\n",
        "        , '塞翁之馬(새옹지마)' : '인생의 길흉화복은 변화가 많아서 예측하기가 어려움'\n",
        "        , '好事多魔(호사다마)' : '좋은 일에는 흔히 방해되는 일이 많음'\n",
        "        , '桑田碧海(상전벽해)' : '세상일의 변천이 심함'\n",
        "        , '自業自得(자업자득)' : '자기가 저지른 일의 결과를 자기가 받음'\n",
        "        , '因果應報(인과응보)' : '원인과 결과가 상응하여 보답한다'\n",
        "        , '愚公移山(우공이산)' : '어떤 일이든 끊임없이 노력하면 반드시 이루어짐'}\n",
        "for i in range(len(dic)):\n",
        "  input('Enter를 누르세요...')\n",
        "  print(list(dic.keys())[i])\n",
        "  print(list(dic.values())[i])\n",
        "  print(' ')"
      ],
      "metadata": {
        "id": "JWBOtQy--sBc"
      },
      "execution_count": null,
      "outputs": []
    },
    {
      "cell_type": "code",
      "source": [
        "# 정신 질환\n",
        "from string import ascii_lowercase\n",
        "\n",
        "def kor_eng(txt):\n",
        "  apb = list(ascii_lowercase)\n",
        "\n",
        "  d_list = txt.split('\\n')\n",
        "  name_kor, name_eng = [], []\n",
        "\n",
        "  for d in d_list:\n",
        "    s = d.split(' ')\n",
        "    kor, eng = [], []\n",
        "    for head in s:\n",
        "      if head[0].lower() in apb:\n",
        "        eng.append(head)\n",
        "      else:\n",
        "        kor.append(head)\n",
        "\n",
        "    name_eng.append(' '.join(eng))\n",
        "    name_kor.append(' '.join(kor))\n",
        "\n",
        "  return dict(zip(name_kor, name_eng))"
      ],
      "metadata": {
        "id": "NMPWaxrbAy3a"
      },
      "execution_count": 154,
      "outputs": []
    },
    {
      "cell_type": "code",
      "source": [
        "txt = '''신경발달장애 Neurodevelopmental Disorders\n",
        "조현병 스펙트럼 및 기타 정신병적 장애 Schizophrenia Spectrum and Other Psychotic Disorders\n",
        "양극성 및 관련 장애 Bipolar and Related Disorders\n",
        "우울장애 Depressive Disorders\n",
        "불안장애 Anxiety Disorder\n",
        "강박 및 관련 장애 Obsessive－Compulsive and Related Disorders\n",
        "외상 및 스트레스 관련 장애 Trauma－and Stressor－Related Disorders\n",
        "해리장애 Dissociative Disorders\n",
        "신체증상 및 관련 장애 Somatic Symptom and Related Disorders\n",
        "급식 및 섭식장애 Feeding and Eating Disorders\n",
        "배설장애 Elimination Disorders\n",
        "수면－각성 장애 Sleep－Wake Disorders\n",
        "성기능부전 Sexual Dysfunctions\n",
        "성별 불쾌감 Gender Dysphoria\n",
        "파괴적, 충동조절 및 품행 장애 Disruptive, Impulse－Control, and Conduct Disorders\n",
        "물질관련 및 중독 장애 Substance－Related and Addictive Disorders\n",
        "신경인지장애 Neurocognitive Disorders\n",
        "성격장애 Personality Disorders\n",
        "변태성욕장애 Paraphilic Disorders\n",
        "기타 정신질환 Other Mental Disorders'''\n",
        "\n",
        "kor_eng(txt)"
      ],
      "metadata": {
        "colab": {
          "base_uri": "https://localhost:8080/"
        },
        "id": "lSxdQ8XSCf9J",
        "outputId": "b8ea08b3-2fe2-4b31-9a46-b8aacc5b2a8b"
      },
      "execution_count": 155,
      "outputs": [
        {
          "output_type": "execute_result",
          "data": {
            "text/plain": [
              "{'신경발달장애': 'Neurodevelopmental Disorders',\n",
              " '조현병 스펙트럼 및 기타 정신병적 장애': 'Schizophrenia Spectrum and Other Psychotic Disorders',\n",
              " '양극성 및 관련 장애': 'Bipolar and Related Disorders',\n",
              " '우울장애': 'Depressive Disorders',\n",
              " '불안장애': 'Anxiety Disorder',\n",
              " '강박 및 관련 장애': 'Obsessive－Compulsive and Related Disorders',\n",
              " '외상 및 스트레스 관련 장애': 'Trauma－and Stressor－Related Disorders',\n",
              " '해리장애': 'Dissociative Disorders',\n",
              " '신체증상 및 관련 장애': 'Somatic Symptom and Related Disorders',\n",
              " '급식 및 섭식장애': 'Feeding and Eating Disorders',\n",
              " '배설장애': 'Elimination Disorders',\n",
              " '수면－각성 장애': 'Sleep－Wake Disorders',\n",
              " '성기능부전': 'Sexual Dysfunctions',\n",
              " '성별 불쾌감': 'Gender Dysphoria',\n",
              " '파괴적, 충동조절 및 품행 장애': 'Disruptive, Impulse－Control, and Conduct Disorders',\n",
              " '물질관련 및 중독 장애': 'Substance－Related and Addictive Disorders',\n",
              " '신경인지장애': 'Neurocognitive Disorders',\n",
              " '성격장애': 'Personality Disorders',\n",
              " '변태성욕장애': 'Paraphilic Disorders',\n",
              " '기타 정신질환': 'Other Mental Disorders'}"
            ]
          },
          "metadata": {},
          "execution_count": 155
        }
      ]
    },
    {
      "cell_type": "code",
      "source": [
        "# 정답 코드\n",
        "\n",
        "disorders = dict()\n",
        "\n",
        "# 아스키코드로 영어, 한글 구분\n",
        "is_eng = lambda x: 65 <= ord(x) <= 90 or 97 <= ord(x) <= 122\n",
        "\n",
        "for l in txt.splitlines():\n",
        "    i = 0\n",
        "    while not is_eng(l[i]):\n",
        "        i += 1\n",
        "    else:\n",
        "        ko, en = l[:i - 1], l[i:] # 영어 시작 위치 찾아서 슬라이싱\n",
        "        disorders[ko] = en\n",
        "\n",
        "print(disorders)"
      ],
      "metadata": {
        "colab": {
          "base_uri": "https://localhost:8080/"
        },
        "id": "che8YLliESyV",
        "outputId": "b9c6e8d2-e173-4004-fb3b-5b2a51e8d802"
      },
      "execution_count": 156,
      "outputs": [
        {
          "output_type": "stream",
          "name": "stdout",
          "text": [
            "{'신경발달장애': 'Neurodevelopmental Disorders', '조현병 스펙트럼 및 기타 정신병적 장애': 'Schizophrenia Spectrum and Other Psychotic Disorders', '양극성 및 관련 장애': 'Bipolar and Related Disorders', '우울장애': 'Depressive Disorders', '불안장애': 'Anxiety Disorder', '강박 및 관련 장애': 'Obsessive－Compulsive and Related Disorders', '외상 및 스트레스 관련 장애': 'Trauma－and Stressor－Related Disorders', '해리장애': 'Dissociative Disorders', '신체증상 및 관련 장애': 'Somatic Symptom and Related Disorders', '급식 및 섭식장애': 'Feeding and Eating Disorders', '배설장애': 'Elimination Disorders', '수면－각성 장애': 'Sleep－Wake Disorders', '성기능부전': 'Sexual Dysfunctions', '성별 불쾌감': 'Gender Dysphoria', '파괴적, 충동조절 및 품행 장애': 'Disruptive, Impulse－Control, and Conduct Disorders', '물질관련 및 중독 장애': 'Substance－Related and Addictive Disorders', '신경인지장애': 'Neurocognitive Disorders', '성격장애': 'Personality Disorders', '변태성욕장애': 'Paraphilic Disorders', '기타 정신질환': 'Other Mental Disorders'}\n"
          ]
        }
      ]
    },
    {
      "cell_type": "code",
      "source": [
        "# 프랙털\n",
        "\n",
        "l = '0000000000000000000000000000001000000000000000000000000000000'\n",
        "print(l)\n",
        "\n",
        "rule = {'111':'0', '110':'1'\n",
        "    , '101':'0', '100':'1'\n",
        "    , '011':'1', '010':'0'\n",
        "    , '001':'1', '000':'0'}\n",
        "\n",
        "next = l\n",
        "while next[1] != '1':\n",
        "  next = ['0']\n",
        "  for i in range(len(l)-2):\n",
        "    next.append(rule[l[i:i+3]])\n",
        "  next.append('0')\n",
        "\n",
        "  l = next\n",
        "\n",
        "  print(''.join(next))"
      ],
      "metadata": {
        "colab": {
          "base_uri": "https://localhost:8080/",
          "height": 277
        },
        "id": "MEMn3iJTFAnY",
        "outputId": "2e4566a0-a4ac-4c50-ebe1-be94926b1803"
      },
      "execution_count": 25,
      "outputs": [
        {
          "output_type": "stream",
          "name": "stdout",
          "text": [
            "0000000000000000000000000000001000000000000000000000000000000\n",
            "0000000000000000000000000000010100000000000000000000000000000\n"
          ]
        },
        {
          "output_type": "error",
          "ename": "TypeError",
          "evalue": "ignored",
          "traceback": [
            "\u001b[0;31m---------------------------------------------------------------------------\u001b[0m",
            "\u001b[0;31mTypeError\u001b[0m                                 Traceback (most recent call last)",
            "\u001b[0;32m<ipython-input-25-f9bb7760a74b>\u001b[0m in \u001b[0;36m<cell line: 12>\u001b[0;34m()\u001b[0m\n\u001b[1;32m     13\u001b[0m   \u001b[0mnext\u001b[0m \u001b[0;34m=\u001b[0m \u001b[0;34m[\u001b[0m\u001b[0;34m'0'\u001b[0m\u001b[0;34m]\u001b[0m\u001b[0;34m\u001b[0m\u001b[0;34m\u001b[0m\u001b[0m\n\u001b[1;32m     14\u001b[0m   \u001b[0;32mfor\u001b[0m \u001b[0mi\u001b[0m \u001b[0;32min\u001b[0m \u001b[0mrange\u001b[0m\u001b[0;34m(\u001b[0m\u001b[0mlen\u001b[0m\u001b[0;34m(\u001b[0m\u001b[0ml\u001b[0m\u001b[0;34m)\u001b[0m\u001b[0;34m-\u001b[0m\u001b[0;36m2\u001b[0m\u001b[0;34m)\u001b[0m\u001b[0;34m:\u001b[0m\u001b[0;34m\u001b[0m\u001b[0;34m\u001b[0m\u001b[0m\n\u001b[0;32m---> 15\u001b[0;31m     \u001b[0mnext\u001b[0m\u001b[0;34m.\u001b[0m\u001b[0mappend\u001b[0m\u001b[0;34m(\u001b[0m\u001b[0mrule\u001b[0m\u001b[0;34m[\u001b[0m\u001b[0ml\u001b[0m\u001b[0;34m[\u001b[0m\u001b[0mi\u001b[0m\u001b[0;34m:\u001b[0m\u001b[0mi\u001b[0m\u001b[0;34m+\u001b[0m\u001b[0;36m3\u001b[0m\u001b[0;34m]\u001b[0m\u001b[0;34m]\u001b[0m\u001b[0;34m)\u001b[0m\u001b[0;34m\u001b[0m\u001b[0;34m\u001b[0m\u001b[0m\n\u001b[0m\u001b[1;32m     16\u001b[0m   \u001b[0mnext\u001b[0m\u001b[0;34m.\u001b[0m\u001b[0mappend\u001b[0m\u001b[0;34m(\u001b[0m\u001b[0;34m'0'\u001b[0m\u001b[0;34m)\u001b[0m\u001b[0;34m\u001b[0m\u001b[0;34m\u001b[0m\u001b[0m\n\u001b[1;32m     17\u001b[0m \u001b[0;34m\u001b[0m\u001b[0m\n",
            "\u001b[0;31mTypeError\u001b[0m: unhashable type: 'list'"
          ]
        }
      ]
    },
    {
      "cell_type": "code",
      "source": [
        "a = 'a' + 'b'\n",
        "a"
      ],
      "metadata": {
        "colab": {
          "base_uri": "https://localhost:8080/",
          "height": 36
        },
        "id": "mYO_8PHKLUOr",
        "outputId": "70ac6f5a-301e-4bab-ae2d-26b7b40289a4"
      },
      "execution_count": 13,
      "outputs": [
        {
          "output_type": "execute_result",
          "data": {
            "text/plain": [
              "'ab'"
            ],
            "application/vnd.google.colaboratory.intrinsic+json": {
              "type": "string"
            }
          },
          "metadata": {},
          "execution_count": 13
        }
      ]
    },
    {
      "cell_type": "code",
      "source": [],
      "metadata": {
        "id": "CXI96EnIQenq"
      },
      "execution_count": null,
      "outputs": []
    }
  ]
}