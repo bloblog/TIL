{
  "nbformat": 4,
  "nbformat_minor": 0,
  "metadata": {
    "colab": {
      "provenance": [],
      "gpuType": "T4",
      "authorship_tag": "ABX9TyO2BSNsyhC7+1wtGleuoxe4",
      "include_colab_link": true
    },
    "kernelspec": {
      "name": "python3",
      "display_name": "Python 3"
    },
    "language_info": {
      "name": "python"
    }
  },
  "cells": [
    {
      "cell_type": "markdown",
      "metadata": {
        "id": "view-in-github",
        "colab_type": "text"
      },
      "source": [
        "<a href=\"https://colab.research.google.com/github/bloblog/TIL/blob/main/%5BSSAFY%5D%20%EC%82%AC%EC%A0%84%ED%95%99%EC%8A%B5_Python.ipynb\" target=\"_parent\"><img src=\"https://colab.research.google.com/assets/colab-badge.svg\" alt=\"Open In Colab\"/></a>"
      ]
    },
    {
      "cell_type": "code",
      "source": [
        "# divmod 함수\n",
        "\n",
        "print(divmod(50, 8))\n",
        "print(type(divmod(50, 8)))"
      ],
      "metadata": {
        "colab": {
          "base_uri": "https://localhost:8080/"
        },
        "id": "Qep31CIo48tx",
        "outputId": "8cf7acf3-c902-4eed-ef91-06f63964db89"
      },
      "execution_count": null,
      "outputs": [
        {
          "output_type": "stream",
          "name": "stdout",
          "text": [
            "(6, 2)\n",
            "<class 'tuple'>\n"
          ]
        }
      ]
    },
    {
      "cell_type": "code",
      "source": [
        "num = int(input())\n",
        "print(num**2)"
      ],
      "metadata": {
        "colab": {
          "base_uri": "https://localhost:8080/"
        },
        "id": "8XNY6jQO6caI",
        "outputId": "d90dfcc1-8efe-48fc-b0a2-11aa4dea2591"
      },
      "execution_count": null,
      "outputs": [
        {
          "output_type": "stream",
          "name": "stdout",
          "text": [
            "3\n",
            "9\n"
          ]
        }
      ]
    },
    {
      "cell_type": "code",
      "source": [
        "num = int(input())\n",
        "i = 0\n",
        "while i < num:\n",
        "  print('', num)\n",
        "  i += 1"
      ],
      "metadata": {
        "colab": {
          "base_uri": "https://localhost:8080/"
        },
        "id": "UjXGR2AeKi0s",
        "outputId": "20ac144e-3838-4c21-c7d6-c6094c19cc0d"
      },
      "execution_count": null,
      "outputs": [
        {
          "output_type": "stream",
          "name": "stdout",
          "text": [
            "5\n",
            " 5\n",
            " 5\n",
            " 5\n",
            " 5\n",
            " 5\n"
          ]
        }
      ]
    },
    {
      "cell_type": "code",
      "source": [
        "num = int(input())\n",
        "i = 0\n",
        "while i < num:\n",
        "  i += 1\n",
        "  print(i, i**2)"
      ],
      "metadata": {
        "id": "8Sp9WMxE9Qpq",
        "colab": {
          "base_uri": "https://localhost:8080/"
        },
        "outputId": "c0b00c55-6a3b-42f1-d8b1-0b05d8e69568"
      },
      "execution_count": null,
      "outputs": [
        {
          "output_type": "stream",
          "name": "stdout",
          "text": [
            "3\n",
            "1 1\n",
            "2 4\n",
            "3 9\n"
          ]
        }
      ]
    },
    {
      "cell_type": "code",
      "source": [
        "h = 100\n",
        "i = 1\n",
        "\n",
        "while i <= 10:\n",
        "  h *= 0.6\n",
        "  print(i, round(h, 4))\n",
        "  i += 1"
      ],
      "metadata": {
        "colab": {
          "base_uri": "https://localhost:8080/"
        },
        "id": "J3l3_AULLEOp",
        "outputId": "c793c5fc-0c78-4760-c74a-20ad6dd9f250"
      },
      "execution_count": null,
      "outputs": [
        {
          "output_type": "stream",
          "name": "stdout",
          "text": [
            "1 60.0\n",
            "2 36.0\n",
            "3 21.6\n",
            "4 12.96\n",
            "5 7.776\n",
            "6 4.6656\n",
            "7 2.7994\n",
            "8 1.6796\n",
            "9 1.0078\n",
            "10 0.6047\n"
          ]
        }
      ]
    },
    {
      "cell_type": "code",
      "source": [
        "number = 358\n",
        "\n",
        "rem = rev = 0\n",
        "while number >= 1:\n",
        "    rem = number % 10\n",
        "    rev = rev * 10 + rem\n",
        "    number = number // 10\n",
        "\n",
        "print(rev)"
      ],
      "metadata": {
        "colab": {
          "base_uri": "https://localhost:8080/"
        },
        "id": "Ayat-MVkMPHq",
        "outputId": "b616e1a3-6b83-4373-b972-98e64deb9d24"
      },
      "execution_count": null,
      "outputs": [
        {
          "output_type": "stream",
          "name": "stdout",
          "text": [
            "853\n"
          ]
        }
      ]
    },
    {
      "cell_type": "code",
      "source": [
        "max = 10\n",
        "\n",
        "while True: # False 나오지 않으면 계속 반복하라.\n",
        "    num = int(input())\n",
        "    if num > max:\n",
        "        print(num, 'is too big!')\n",
        "        break"
      ],
      "metadata": {
        "colab": {
          "base_uri": "https://localhost:8080/"
        },
        "id": "J2WceMuQMPqY",
        "outputId": "a04536f7-b9ea-4830-e88e-b8c2a9540b3a"
      },
      "execution_count": null,
      "outputs": [
        {
          "output_type": "stream",
          "name": "stdout",
          "text": [
            "9\n",
            "12\n",
            "12 is too big!\n"
          ]
        }
      ]
    },
    {
      "cell_type": "code",
      "source": [
        "# 2.2.1 연습 문제: 숫자 읽기(1~3)\n",
        "\n",
        "while True:\n",
        "  num = int(input())\n",
        "  if num == 1:\n",
        "    print('일')\n",
        "    break\n",
        "  elif num == 2:\n",
        "    print('이')\n",
        "    break\n",
        "  elif num == 3:\n",
        "    print('삼')\n",
        "    break\n",
        "  else:\n",
        "    print('1 이상 3 이하의 정수 중 하나를 입력해주세요.')"
      ],
      "metadata": {
        "colab": {
          "base_uri": "https://localhost:8080/"
        },
        "id": "QD7gWHsfMtw_",
        "outputId": "207f2574-0a15-4d4e-c9ad-0ee4310b60f9"
      },
      "execution_count": null,
      "outputs": [
        {
          "output_type": "stream",
          "name": "stdout",
          "text": [
            "4\n",
            "1 이상 3 이하의 정수 중 하나를 입력해주세요.\n",
            "1\n",
            "일\n"
          ]
        }
      ]
    },
    {
      "cell_type": "code",
      "source": [
        "# generations1\n",
        "\n",
        "year = int(input('What year were you born? '))\n",
        "\n",
        "if year <= 1924:\n",
        "  print(\"You're the Greatest Generation.\")\n",
        "elif 1925 <= year <= 1945: # if-elif-else 는 순서대로 진행되기 때문에 ~ 이상은 없어도 됨.\n",
        "  print(\"You're the Silent Generation.\")\n",
        "elif 1946 <= year <= 1964:\n",
        "  print(\"You're a baby boomer.\")\n",
        "elif 1965 <= year <= 1980:\n",
        "  print(\"You're a Gen X.\")\n",
        "elif 1981 <= year <= 1996:\n",
        "  print(\"You're a millennial.\")\n",
        "else:\n",
        "  print(\"You're a Gen Z.\")\n",
        "\n",
        "# print 반복보다는 변수 만들어서 f string 이용하는 게 깔끔!\n",
        "# e.g. print(f\"You're {gen}.\")\n"
      ],
      "metadata": {
        "colab": {
          "base_uri": "https://localhost:8080/"
        },
        "id": "ymMaqL5tNQsJ",
        "outputId": "db0c6f04-d7db-4e84-ddc8-8b543e66fa18"
      },
      "execution_count": null,
      "outputs": [
        {
          "output_type": "stream",
          "name": "stdout",
          "text": [
            "What year were you born? 1999\n",
            "You're a Gen Z.\n"
          ]
        }
      ]
    },
    {
      "cell_type": "code",
      "source": [
        "# affix\n",
        "\n",
        "num = int(input())\n",
        "result = str(num)\n",
        "\n",
        "if num >= 1000000000:\n",
        "  result = str(num // 1000000000) + 'G'\n",
        "elif num >= 1000000:\n",
        "  result = str(num // 1000000) + 'M'\n",
        "elif num >= 1000:\n",
        "  result = str(num // 1000) + 'k'\n",
        "elif num >= 0:\n",
        "  pass\n",
        "\n",
        "print(result)"
      ],
      "metadata": {
        "colab": {
          "base_uri": "https://localhost:8080/"
        },
        "id": "s3t1UhSROcQ2",
        "outputId": "bee39c59-85bc-436f-a094-33e9d3a176b6"
      },
      "execution_count": null,
      "outputs": [
        {
          "output_type": "stream",
          "name": "stdout",
          "text": [
            "1000000000\n",
            "1G\n"
          ]
        }
      ]
    },
    {
      "cell_type": "code",
      "source": [
        "# sum_positive\n",
        "\n",
        "num = 0\n",
        "result = 0\n",
        "\n",
        "while num >= 0:\n",
        "  result += num\n",
        "  num = int(input())\n",
        "\n",
        "print(result)"
      ],
      "metadata": {
        "colab": {
          "base_uri": "https://localhost:8080/"
        },
        "id": "NlENzDYSVhTy",
        "outputId": "d06a8236-3910-48de-8998-08861ef59b20"
      },
      "execution_count": null,
      "outputs": [
        {
          "output_type": "stream",
          "name": "stdout",
          "text": [
            "50\n",
            "60\n",
            "70\n",
            "-100\n",
            "180\n"
          ]
        }
      ]
    },
    {
      "cell_type": "code",
      "source": [
        "# leap_year\n",
        "\n",
        "year = int(input())\n",
        "result = \"평년\"\n",
        "\n",
        "if year % 400 == 0:\n",
        "  result = \"윤년\"\n",
        "elif year % 100 == 0:\n",
        "  result = \"평년\"\n",
        "elif year % 4 == 0:\n",
        "  result = \"윤년\"\n",
        "\n",
        "print(f'{year}년은 {result}입니다.')"
      ],
      "metadata": {
        "colab": {
          "base_uri": "https://localhost:8080/"
        },
        "id": "Pgf7L7a_WbqD",
        "outputId": "e6049013-caad-40a4-fd81-9e990e7ed588"
      },
      "execution_count": null,
      "outputs": [
        {
          "output_type": "stream",
          "name": "stdout",
          "text": [
            "2077\n",
            "2077년은 평년입니다.\n"
          ]
        }
      ]
    },
    {
      "cell_type": "code",
      "source": [
        "# generations2\n",
        "\n",
        "year = int(input('What year were you born? '))\n",
        "kor = input('Are you Korean?(y/n) ')\n",
        "kor = kor[0].lower()\n",
        "\n",
        "if year <= 1924:\n",
        "  print(\"You're the Greatest Generation.\")\n",
        "elif year <= 1945:\n",
        "  print(\"You're the Silent Generation.\")\n",
        "\n",
        "elif year <= 1964:\n",
        "  if kor == 'y' and year <= 1954:\n",
        "    print(\"You're the Silent Generation.\")\n",
        "  elif kor == 'y' and year == 1964:\n",
        "    print(\"You're a Gen X.\")\n",
        "  else:\n",
        "    print(\"You're a baby boomer.\")\n",
        "\n",
        "elif year <= 1980:\n",
        "  print(\"You're a Gen X.\")\n",
        "elif year <= 1996:\n",
        "  print(\"You're a millennial.\")\n",
        "else:\n",
        "  print(\"You're a Gen Z.\")"
      ],
      "metadata": {
        "colab": {
          "base_uri": "https://localhost:8080/"
        },
        "id": "W8l7mfSKXrKL",
        "outputId": "8f380aa9-4c5e-43bf-99c0-57445d9e8ca6"
      },
      "execution_count": null,
      "outputs": [
        {
          "output_type": "stream",
          "name": "stdout",
          "text": [
            "What year were you born? 1954\n",
            "Are you Korean?(y/n) yes\n",
            "You're the Silent Generation.\n"
          ]
        }
      ]
    },
    {
      "cell_type": "code",
      "source": [
        "# repeat_for\n",
        "\n",
        "num = int(input())\n",
        "\n",
        "for i in range(1, num+1):\n",
        "  print(i, i**2)"
      ],
      "metadata": {
        "colab": {
          "base_uri": "https://localhost:8080/"
        },
        "id": "0qALn5yacjkE",
        "outputId": "be22fa32-d5c0-42df-f1a7-743698f0998d"
      },
      "execution_count": null,
      "outputs": [
        {
          "output_type": "stream",
          "name": "stdout",
          "text": [
            "5\n",
            "1 1\n",
            "2 4\n",
            "3 9\n",
            "4 16\n",
            "5 25\n"
          ]
        }
      ]
    },
    {
      "cell_type": "code",
      "source": [
        "# chemical_lab\n",
        "\n",
        "min, max = input().split(' ')\n",
        "\n",
        "# map 함수 사용하기!\n",
        "# min, max = map(int, input().split())\n",
        "\n",
        "tem = [int(i) for i in input().split(' ')]\n",
        "\n",
        "for i in tem:\n",
        "  if i == -999:\n",
        "    break\n",
        "  elif i < int(min) or i > int(max):\n",
        "    print('Alert!')\n",
        "    break\n",
        "  else:\n",
        "    print('Nothing to report')"
      ],
      "metadata": {
        "colab": {
          "base_uri": "https://localhost:8080/"
        },
        "id": "m56h4IaldUU6",
        "outputId": "02997927-5983-4234-81c0-3c7f5bae12f0"
      },
      "execution_count": null,
      "outputs": [
        {
          "output_type": "stream",
          "name": "stdout",
          "text": [
            "0 100\n",
            "15 50 75 -999\n",
            "Nothing to report\n",
            "Nothing to report\n",
            "Nothing to report\n"
          ]
        }
      ]
    },
    {
      "cell_type": "code",
      "source": [
        "countdown = 5\n",
        "while countdown > 0:\n",
        "\tprint(countdown)\n",
        "\tcountdown -= 1\n",
        "\tif input() == '중단':\n",
        "\t\tbreak\n",
        "else:\n",
        "\tprint('발사!')"
      ],
      "metadata": {
        "colab": {
          "base_uri": "https://localhost:8080/"
        },
        "id": "IW0GEdXQeLgC",
        "outputId": "e71b4564-4b12-4663-df5a-6612517b7b62"
      },
      "execution_count": null,
      "outputs": [
        {
          "output_type": "stream",
          "name": "stdout",
          "text": [
            "5\n",
            "\n",
            "4\n",
            "\n",
            "3\n",
            "\n",
            "2\n",
            "\n",
            "1\n",
            "\n",
            "발사!\n"
          ]
        }
      ]
    },
    {
      "cell_type": "code",
      "source": [
        "def compare(x, y):\n",
        "  if x > y:\n",
        "    print(f'{x} > {y}')\n",
        "  elif x < y:\n",
        "    print(f'{x} < {y}')\n",
        "  else:\n",
        "    print(f'{x} == {y}')\n",
        "\n",
        "compare(1, 2)"
      ],
      "metadata": {
        "colab": {
          "base_uri": "https://localhost:8080/"
        },
        "id": "_-Pvj3YxigUO",
        "outputId": "1207bf9e-68bb-47ab-f80a-ceef7e45e87b"
      },
      "execution_count": null,
      "outputs": [
        {
          "output_type": "stream",
          "name": "stdout",
          "text": [
            "1 < 2\n"
          ]
        }
      ]
    },
    {
      "cell_type": "code",
      "source": [
        "256**4"
      ],
      "metadata": {
        "colab": {
          "base_uri": "https://localhost:8080/"
        },
        "id": "jARE7OcLjsU4",
        "outputId": "64937105-2616-4619-ea6c-a675b7d56d2a"
      },
      "execution_count": null,
      "outputs": [
        {
          "output_type": "execute_result",
          "data": {
            "text/plain": [
              "4294967296"
            ]
          },
          "metadata": {},
          "execution_count": 63
        }
      ]
    },
    {
      "cell_type": "code",
      "source": [
        "len(str(_)) # _ : 방금 리턴된 값"
      ],
      "metadata": {
        "colab": {
          "base_uri": "https://localhost:8080/"
        },
        "id": "t3Bz673okGhb",
        "outputId": "3d7fc557-0a0e-4ec1-90d3-90d150d6a9ea"
      },
      "execution_count": null,
      "outputs": [
        {
          "output_type": "execute_result",
          "data": {
            "text/plain": [
              "10"
            ]
          },
          "metadata": {},
          "execution_count": 64
        }
      ]
    },
    {
      "cell_type": "code",
      "source": [
        "# numdigits\n",
        "\n",
        "def numOfDigits(n):\n",
        "  if n <= 0:\n",
        "    print('양의 정수를 입력해주세요.')\n",
        "  else:\n",
        "    print(len(str(n)))\n",
        "\n",
        "numOfDigits(1234567890)"
      ],
      "metadata": {
        "colab": {
          "base_uri": "https://localhost:8080/"
        },
        "id": "Tup9QBl5kIF4",
        "outputId": "0c465858-9950-45bc-efd9-be3d089e0f2b"
      },
      "execution_count": null,
      "outputs": [
        {
          "output_type": "stream",
          "name": "stdout",
          "text": [
            "10\n"
          ]
        }
      ]
    },
    {
      "cell_type": "code",
      "source": [
        "def gugudan():\n",
        "  n = 2\n",
        "  while n < 10:\n",
        "    for i in range(1, 10):\n",
        "      print(f'{n} * {i} = {n*i}')\n",
        "    n += 1\n",
        "\n",
        "gugudan()"
      ],
      "metadata": {
        "id": "-QUhJ8gsk0Ja"
      },
      "execution_count": null,
      "outputs": []
    },
    {
      "cell_type": "code",
      "source": [
        "def triangle(bottom, height):\n",
        "  return bottom * height * 0.5\n",
        "\n",
        "print(triangle(3, 5))"
      ],
      "metadata": {
        "colab": {
          "base_uri": "https://localhost:8080/"
        },
        "id": "uDUHRcX8llI-",
        "outputId": "74e314b8-a25c-4f22-f0b2-c56ccb29962a"
      },
      "execution_count": null,
      "outputs": [
        {
          "output_type": "stream",
          "name": "stdout",
          "text": [
            "7.5\n"
          ]
        }
      ]
    },
    {
      "cell_type": "code",
      "source": [
        "def korean_number(n):\n",
        "  kor = ['일','이','삼','사','오','육','칠','팔','구','십']\n",
        "  num = range(1, 11)\n",
        "  if n in num:\n",
        "    return kor[n-1]\n",
        "  else:\n",
        "    return '1 이상 10 이하의 정수를 입력하세요.'\n",
        "\n",
        "korean_number(11)"
      ],
      "metadata": {
        "colab": {
          "base_uri": "https://localhost:8080/",
          "height": 36
        },
        "id": "r-t1N_Hgmf_U",
        "outputId": "263d8cfa-18f1-4087-a640-84e35f05521f"
      },
      "execution_count": null,
      "outputs": [
        {
          "output_type": "execute_result",
          "data": {
            "text/plain": [
              "'1 이상 10 이하의 정수를 입력하세요.'"
            ],
            "application/vnd.google.colaboratory.intrinsic+json": {
              "type": "string"
            }
          },
          "metadata": {},
          "execution_count": 79
        }
      ]
    },
    {
      "cell_type": "code",
      "source": [
        "# 연습문제 : 함수 정의하기\n",
        "def triple(x):\n",
        "  return x * 3\n",
        "\n",
        "triple('x')"
      ],
      "metadata": {
        "colab": {
          "base_uri": "https://localhost:8080/",
          "height": 36
        },
        "id": "s_JKjAqJoAbB",
        "outputId": "5bd5ff68-636a-4f33-d9f1-06a72463e5d0"
      },
      "execution_count": null,
      "outputs": [
        {
          "output_type": "execute_result",
          "data": {
            "text/plain": [
              "'xxx'"
            ],
            "application/vnd.google.colaboratory.intrinsic+json": {
              "type": "string"
            }
          },
          "metadata": {},
          "execution_count": 81
        }
      ]
    },
    {
      "cell_type": "code",
      "source": [
        "from datetime import datetime\n",
        "\n",
        "def korean_age(year):\n",
        "  today = datetime.today()\n",
        "  std = today.year\n",
        "  return std - year + 1\n",
        "\n",
        "korean_age(1999)"
      ],
      "metadata": {
        "colab": {
          "base_uri": "https://localhost:8080/"
        },
        "id": "QCJJFwHzoXUQ",
        "outputId": "38c2445a-852e-4d88-bca7-4d4deb2cf10c"
      },
      "execution_count": null,
      "outputs": [
        {
          "output_type": "execute_result",
          "data": {
            "text/plain": [
              "25"
            ]
          },
          "metadata": {},
          "execution_count": 84
        }
      ]
    },
    {
      "cell_type": "code",
      "source": [
        "# 연습문제 : 이자(단리) 계산\n",
        "\n",
        "def simple_interest(p, r, t):\n",
        "  return p*r*t\n",
        "\n",
        "simple_interest(1100000, 0.05, 5/12)"
      ],
      "metadata": {
        "colab": {
          "base_uri": "https://localhost:8080/"
        },
        "id": "LONYcgiKo3-S",
        "outputId": "42147ed3-8153-4122-bd9c-f106cef6c51f"
      },
      "execution_count": null,
      "outputs": [
        {
          "output_type": "execute_result",
          "data": {
            "text/plain": [
              "22916.666666666668"
            ]
          },
          "metadata": {},
          "execution_count": 87
        }
      ]
    },
    {
      "cell_type": "code",
      "source": [
        "def simple_interest_amount(p, r, t):\n",
        "  return p * (1 + r*t)\n",
        "\n",
        "simple_interest_amount(1100000, 0.05, 5/12)"
      ],
      "metadata": {
        "colab": {
          "base_uri": "https://localhost:8080/"
        },
        "id": "RJYbaN_B_PBc",
        "outputId": "7aa9dbff-1b81-4833-e364-a550a12d843e"
      },
      "execution_count": null,
      "outputs": [
        {
          "output_type": "execute_result",
          "data": {
            "text/plain": [
              "1122916.6666666665"
            ]
          },
          "metadata": {},
          "execution_count": 90
        }
      ]
    },
    {
      "cell_type": "code",
      "source": [
        "# 연습문제 : 이자(복리) 계산\n",
        "\n",
        "def compound_interest_amount(p, r, t, n):\n",
        "  return p * (1+r/n) ** (n*t)\n",
        "\n",
        "print('t=6 n=4')\n",
        "print(compound_interest_amount(1500000, 0.043, 6, 4))\n",
        "print('-----')\n",
        "print('t=6 n=1/2')\n",
        "print(compound_interest_amount(1500000, 0.043, 6, 1/2))"
      ],
      "metadata": {
        "colab": {
          "base_uri": "https://localhost:8080/"
        },
        "id": "LOI_WFyQ_bjX",
        "outputId": "513b0ec4-e94f-4ac1-fea5-e1d2eb722262"
      },
      "execution_count": null,
      "outputs": [
        {
          "output_type": "stream",
          "name": "stdout",
          "text": [
            "t=6 n=4\n",
            "1938836.8221341055\n",
            "-----\n",
            "t=6 n=1/2\n",
            "1921236.0840000005\n"
          ]
        }
      ]
    },
    {
      "cell_type": "code",
      "source": [
        "from functools import reduce\n",
        "reduce(lambda x, y: x + y, [0, 1, 2, 3, 4])"
      ],
      "metadata": {
        "colab": {
          "base_uri": "https://localhost:8080/"
        },
        "id": "q5NSt_VMAmIb",
        "outputId": "5019f41c-8330-40f5-b21a-2f58629c88a4"
      },
      "execution_count": null,
      "outputs": [
        {
          "output_type": "execute_result",
          "data": {
            "text/plain": [
              "10"
            ]
          },
          "metadata": {},
          "execution_count": 118
        }
      ]
    },
    {
      "cell_type": "code",
      "source": [
        "from functools import reduce\n",
        "reduce(lambda x, y: print(y, x), 'abcde')\n",
        "\n",
        "# 첫 번째 결과가 다음 순서에서 x로 들어간다!\n",
        "# -------\n",
        "# b a\n",
        "# c ba\n",
        "# d cba\n",
        "# e dcba\n",
        "# -------\n",
        "# 결과 : edcba"
      ],
      "metadata": {
        "colab": {
          "base_uri": "https://localhost:8080/"
        },
        "id": "pe5OsXt0ECA5",
        "outputId": "f8fd7ca9-0984-4dff-e453-d06c7b60cc39"
      },
      "execution_count": null,
      "outputs": [
        {
          "output_type": "stream",
          "name": "stdout",
          "text": [
            "b a\n",
            "c None\n",
            "d None\n",
            "e None\n"
          ]
        }
      ]
    },
    {
      "cell_type": "code",
      "source": [
        "def read(text):\n",
        "    ridename = text.split(':')[0]\n",
        "    cm_text = text.split(':')[1]\n",
        "\n",
        "    cm = list(map(lambda x: x.strip(), cm_text.split('cm')))\n",
        "    if cm_text.strip() == '-':\n",
        "      cmmin = None\n",
        "      cmmax = None\n",
        "    elif cm[1][0] == '~':\n",
        "      cmmin = cm[0]\n",
        "      cmmax = cm[1][1:]\n",
        "    elif cm[1] == '이상' or cm[1] == '이하':\n",
        "      if cm[1] == '이상':\n",
        "        cmmin = cm[0]\n",
        "        cmmax = None\n",
        "      else:\n",
        "        cmmin = None\n",
        "        cmmax = cm[0]\n",
        "\n",
        "    return ridename, cmmin, cmmax\n",
        "\n",
        "if __name__ == \"__main__\":\n",
        "    ridename, cmmin, cmmax = read(input())\n",
        "    print(\"이름:\", ridename)\n",
        "    print(\"하한:\", cmmin)\n",
        "    print(\"상한:\", cmmax)"
      ],
      "metadata": {
        "colab": {
          "base_uri": "https://localhost:8080/"
        },
        "id": "wWlLQFCaEFV8",
        "outputId": "c80bff5a-df13-49fc-b461-bb9908284693"
      },
      "execution_count": null,
      "outputs": [
        {
          "output_type": "stream",
          "name": "stdout",
          "text": [
            "플라이벤처: 140cm~195cm\n",
            "이름: 플라이벤처\n",
            "하한: 140\n",
            "상한: 195\n"
          ]
        }
      ]
    },
    {
      "cell_type": "code",
      "source": [
        "# 회문 판별 함수\n",
        "# 회문 = 거꾸로 배열해도 같은 단어나 문장이 되는 것\n",
        "\n",
        "def palindrome(s):\n",
        "  if s == s[::-1]:\n",
        "    return True\n",
        "  else:\n",
        "    return False\n",
        "\n",
        "palindrome('banana')"
      ],
      "metadata": {
        "id": "ILHsQmFKJAlf",
        "colab": {
          "base_uri": "https://localhost:8080/"
        },
        "outputId": "8325cf85-9edf-4f57-d4bc-6507bc169084"
      },
      "execution_count": null,
      "outputs": [
        {
          "output_type": "execute_result",
          "data": {
            "text/plain": [
              "False"
            ]
          },
          "metadata": {},
          "execution_count": 23
        }
      ]
    },
    {
      "cell_type": "code",
      "source": [
        "# 대소문자 구분 없이 판정하기\n",
        "\n",
        "def palindrome(s):\n",
        "  if s.lower() == s[::-1].lower():\n",
        "    return True\n",
        "  else:\n",
        "    return False\n",
        "\n",
        "palindrome('Anna')"
      ],
      "metadata": {
        "colab": {
          "base_uri": "https://localhost:8080/"
        },
        "id": "TU_exYXBlXkL",
        "outputId": "d7a837b0-c0f8-4d5f-8261-dd0b0be41612"
      },
      "execution_count": null,
      "outputs": [
        {
          "output_type": "execute_result",
          "data": {
            "text/plain": [
              "True"
            ]
          },
          "metadata": {},
          "execution_count": 24
        }
      ]
    },
    {
      "cell_type": "code",
      "source": [
        "# 공백 무시하고 판정하기\n",
        "\n",
        "def palindrome(s):\n",
        "  s = s.lower().replace(' ', '')\n",
        "  rev = s[::-1].lower().replace(' ', '')\n",
        "  if s == rev:\n",
        "    return True\n",
        "  else:\n",
        "    return False\n",
        "\n",
        "palindrome('My gym')"
      ],
      "metadata": {
        "colab": {
          "base_uri": "https://localhost:8080/"
        },
        "id": "FKQCB0bQlklk",
        "outputId": "f1126f75-b29f-4350-cabd-7a9367594e2a"
      },
      "execution_count": null,
      "outputs": [
        {
          "output_type": "execute_result",
          "data": {
            "text/plain": [
              "True"
            ]
          },
          "metadata": {},
          "execution_count": 26
        }
      ]
    },
    {
      "cell_type": "code",
      "source": [
        "# 공백 무시하고 판정하기\n",
        "# 좀 더 깔끔한 버전\n",
        "\n",
        "def palindrome(s):\n",
        "  s = s.lower().replace(' ', '')\n",
        "  rev = s[::-1].lower().replace(' ', '')\n",
        "\n",
        "  return s == rev\n",
        "\n",
        "palindrome('My gym')"
      ],
      "metadata": {
        "colab": {
          "base_uri": "https://localhost:8080/"
        },
        "id": "Lc2sSTAdl8_n",
        "outputId": "4c7d370d-7bf2-4839-b6cb-074c096cd1ef"
      },
      "execution_count": null,
      "outputs": [
        {
          "output_type": "execute_result",
          "data": {
            "text/plain": [
              "True"
            ]
          },
          "metadata": {},
          "execution_count": 27
        }
      ]
    },
    {
      "cell_type": "code",
      "source": [
        "s = 'banana'\n",
        "s.find('n')"
      ],
      "metadata": {
        "colab": {
          "base_uri": "https://localhost:8080/"
        },
        "id": "0LhoIafDmOAr",
        "outputId": "16baea55-157a-46f8-fe11-f50c3d5df965"
      },
      "execution_count": null,
      "outputs": [
        {
          "output_type": "execute_result",
          "data": {
            "text/plain": [
              "2"
            ]
          },
          "metadata": {},
          "execution_count": 32
        }
      ]
    },
    {
      "cell_type": "code",
      "source": [
        "chulsu = [90, 85, 70]\n",
        "younghee = [88, 79, 92]\n",
        "yong = [100, 100, 100]\n",
        "minsu = [90, 60, 70]"
      ],
      "metadata": {
        "id": "rhjoz_dsoRk2"
      },
      "execution_count": null,
      "outputs": []
    },
    {
      "cell_type": "code",
      "source": [
        "students = [chulsu, younghee, yong, minsu]"
      ],
      "metadata": {
        "id": "089yCrTHoVh9"
      },
      "execution_count": null,
      "outputs": []
    },
    {
      "cell_type": "code",
      "source": [
        "for scores in students:\n",
        "     total = 0\n",
        "     for s in scores:\n",
        "         total = total + s\n",
        "     average = total / 3\n",
        "     print(scores, total, average)"
      ],
      "metadata": {
        "colab": {
          "base_uri": "https://localhost:8080/"
        },
        "id": "AWyKktRFm4vK",
        "outputId": "7e119adc-a5ef-47d2-adc9-60228ade60c6"
      },
      "execution_count": null,
      "outputs": [
        {
          "output_type": "stream",
          "name": "stdout",
          "text": [
            "[90, 85, 70] 245 81.66666666666667\n",
            "[88, 79, 92] 259 86.33333333333333\n",
            "[100, 100, 100] 300 100.0\n",
            "[90, 60, 70] 220 73.33333333333333\n"
          ]
        }
      ]
    },
    {
      "cell_type": "code",
      "source": [
        "# 각 자리 숫자의 합을 구하는 함수\n",
        "\n",
        "def sumOfDigits(num):\n",
        "  int_list = list(map(lambda x: int(x), list(str(num))))\n",
        "  return sum(int_list)\n",
        "\n",
        "sumOfDigits(47253)"
      ],
      "metadata": {
        "colab": {
          "base_uri": "https://localhost:8080/"
        },
        "id": "j2NDiZXaoXY8",
        "outputId": "61924434-27cd-4928-8305-8dba7e1a8042"
      },
      "execution_count": null,
      "outputs": [
        {
          "output_type": "execute_result",
          "data": {
            "text/plain": [
              "21"
            ]
          },
          "metadata": {},
          "execution_count": 64
        }
      ]
    },
    {
      "cell_type": "code",
      "source": [
        "# 줄기와 잎 그림\n",
        "\n",
        "score = [0, 0, 2, 4, 7, 7, 9, 11, 11, 13, 18, 20]\n",
        "stem_leaf = [[], [], []]\n",
        "new_score = []\n",
        "\n",
        "for i in list(map(lambda x: str(x), score)):\n",
        "  if len(i) == 1:\n",
        "    new_score.append('0' + i)\n",
        "  else:\n",
        "    new_score.append(i)\n",
        "\n",
        "for i in new_score:\n",
        "  if i[0] == '0':\n",
        "    stem_leaf[0].append(int(i[1]))\n",
        "  elif i[0] == '1':\n",
        "    stem_leaf[1].append(int(i[1]))\n",
        "  else:\n",
        "    stem_leaf[2].append(int(i[1]))\n",
        "\n",
        "stem_leaf"
      ],
      "metadata": {
        "colab": {
          "base_uri": "https://localhost:8080/"
        },
        "id": "hgp0SSxIomDU",
        "outputId": "ba9a2144-0c13-41f4-83bf-221eb00b5f9d"
      },
      "execution_count": null,
      "outputs": [
        {
          "output_type": "execute_result",
          "data": {
            "text/plain": [
              "[[0, 0, 2, 4, 7, 7, 9], [1, 1, 3, 8], [0]]"
            ]
          },
          "metadata": {},
          "execution_count": 62
        }
      ]
    },
    {
      "cell_type": "code",
      "source": [
        "# 줄기와 잎 그림\n",
        "\n",
        "score = [0, 0, 2, 4, 7, 7, 9, 11, 11, 13, 18, 20]\n",
        "stem_leaf = [[], [], []]\n",
        "new_score = []\n",
        "\n",
        "for i in list(map(lambda x: str(x), score)):\n",
        "  if len(i) == 1:\n",
        "    new_score.append('0' + i)\n",
        "  else:\n",
        "    new_score.append(i)\n",
        "\n",
        "for i in new_score:\n",
        "  if i[0] == '0':\n",
        "    stem_leaf[0].append(int(i[1]))\n",
        "  elif i[0] == '1':\n",
        "    stem_leaf[1].append(int(i[1]))\n",
        "  else:\n",
        "    stem_leaf[2].append(int(i[1]))\n",
        "\n",
        "# 추가 문제\n",
        "for idx, i in enumerate(stem_leaf):\n",
        "  print(f'{idx}: {i}')"
      ],
      "metadata": {
        "colab": {
          "base_uri": "https://localhost:8080/"
        },
        "id": "7kR4mHNOr_PC",
        "outputId": "d108d610-bfef-4b30-8905-e6e5b16a1b0f"
      },
      "execution_count": null,
      "outputs": [
        {
          "output_type": "stream",
          "name": "stdout",
          "text": [
            "0: [0, 0, 2, 4, 7, 7, 9]\n",
            "1: [1, 1, 3, 8]\n",
            "2: [0]\n"
          ]
        }
      ]
    },
    {
      "cell_type": "code",
      "source": [
        "# 소수 구하기\n",
        "\n",
        "# 실행시간 비교 코드 추가\n",
        "from time import process_time\n",
        "\n",
        "def prime(n):\n",
        "  num_list = list(range(2, n+1))\n",
        "  for i in range(2, n+1):\n",
        "    for j in num_list:\n",
        "      if j != i and j % i == 0:\n",
        "        num_list.remove(j)\n",
        "  return num_list\n",
        "\n",
        "start = process_time()\n",
        "print(prime(10))\n",
        "end = process_time()\n",
        "print('elapsed:', end - start)"
      ],
      "metadata": {
        "colab": {
          "base_uri": "https://localhost:8080/"
        },
        "id": "edV-IHBKtCk1",
        "outputId": "d9e44af3-b93c-4056-f320-b3f37361747a"
      },
      "execution_count": null,
      "outputs": [
        {
          "output_type": "stream",
          "name": "stdout",
          "text": [
            "[2, 3, 5, 7]\n",
            "elapsed: 0.0011226749999977415\n"
          ]
        }
      ]
    },
    {
      "cell_type": "code",
      "source": [
        "def prime(n):\n",
        "    L = list(range(2, n + 1))\n",
        "    L2 = L[:]\n",
        "\n",
        "    for p in L:\n",
        "        for q in L:\n",
        "            if (q in L2) and (q != p and q % p == 0):\n",
        "                L2.remove(q)\n",
        "    return L2\n",
        "\n",
        "\n",
        "start = process_time()\n",
        "print(prime(10))\n",
        "end = process_time()\n",
        "print('elapsed:', end - start)"
      ],
      "metadata": {
        "colab": {
          "base_uri": "https://localhost:8080/"
        },
        "id": "3e2n-TAOulO1",
        "outputId": "c1acfa34-86a6-4a2b-aa8a-a1cf8574bac2"
      },
      "execution_count": null,
      "outputs": [
        {
          "output_type": "stream",
          "name": "stdout",
          "text": [
            "[2, 3, 5, 7]\n",
            "elapsed: 0.00022522399999758136\n"
          ]
        }
      ]
    },
    {
      "cell_type": "code",
      "source": [
        "from math import sqrt\n",
        "\n",
        "def prime(n):\n",
        "    N = list(range(2, n + 1))\n",
        "\n",
        "    i = 0\n",
        "    while i <= sqrt(n) and len(N) > i:\n",
        "        #print('\\ncheck multiple of ', N[i])\n",
        "        j = i\n",
        "        while i <= j <= n and len(N) > j:\n",
        "            #print(f'N[{j}]: {N[j]}', end='')\n",
        "            if N[j] != N[i] and N[j] % N[i] == 0:\n",
        "                del N[j]\n",
        "                #print(' <= deleted')\n",
        "                if len(N) == j:\n",
        "                    break\n",
        "            else:\n",
        "                #print('')\n",
        "                j += 1\n",
        "        if len(N) == i:\n",
        "            break\n",
        "        else:\n",
        "            i += 1\n",
        "    return N\n",
        "\n",
        "start = process_time()\n",
        "print(prime(10))\n",
        "end = process_time()\n",
        "print('elapsed:', end - start)"
      ],
      "metadata": {
        "colab": {
          "base_uri": "https://localhost:8080/"
        },
        "id": "VB_MHUM3v3yX",
        "outputId": "270233f8-c971-4a88-c986-34944926c242"
      },
      "execution_count": null,
      "outputs": [
        {
          "output_type": "stream",
          "name": "stdout",
          "text": [
            "[2, 3, 5, 7]\n",
            "elapsed: 0.001814169000006416\n"
          ]
        }
      ]
    },
    {
      "cell_type": "code",
      "source": [
        "# 진법 변환\n",
        "\n",
        "def binary(n):\n",
        "  div = [n, 0]\n",
        "  result = []\n",
        "  while div[0] > 0:\n",
        "    div = divmod(div[0], 2)\n",
        "    result.append(div[1])\n",
        "  return result[::-1]\n",
        "\n",
        "start = process_time()\n",
        "binary(87)\n",
        "end = process_time()\n",
        "print('elapsed:', end - start)\n"
      ],
      "metadata": {
        "colab": {
          "base_uri": "https://localhost:8080/"
        },
        "id": "61-4dWe3wNV2",
        "outputId": "8ef56e1c-0f38-4ca7-d155-d0446a431e4f"
      },
      "execution_count": null,
      "outputs": [
        {
          "output_type": "stream",
          "name": "stdout",
          "text": [
            "elapsed: 0.00011203500000078748\n"
          ]
        }
      ]
    },
    {
      "cell_type": "code",
      "source": [
        "# 더 빠른 버전\n",
        "\n",
        "def binary(d):\n",
        "  m = d\n",
        "  b = []\n",
        "\n",
        "  while True:\n",
        "      d, m = divmod(d, 2)\n",
        "      b.insert(0, m)\n",
        "      if d == 0:\n",
        "          break\n",
        "  return b\n",
        "\n",
        "start = process_time()\n",
        "binary(87)\n",
        "end = process_time()\n",
        "print('elapsed:', end - start)"
      ],
      "metadata": {
        "colab": {
          "base_uri": "https://localhost:8080/"
        },
        "id": "Lz-WfIOpxVGW",
        "outputId": "3894df08-60c8-4d70-d1e4-d631b808f877"
      },
      "execution_count": null,
      "outputs": [
        {
          "output_type": "stream",
          "name": "stdout",
          "text": [
            "elapsed: 8.580400000113286e-05\n"
          ]
        }
      ]
    },
    {
      "cell_type": "code",
      "source": [
        "# tomorrow\n",
        "\n",
        "def tomorrow(date):\n",
        "  yyyy, mm, dd = map(int, date.split(' '))\n",
        "  print(f'{mm:02d}/{dd:02d}/{yyyy}')\n",
        "\n",
        "  if mm == 12 and dd == 31:\n",
        "    yyyy += 1\n",
        "    mm, dd = 1, 1\n",
        "  elif mm == 2 and dd == 28:\n",
        "    mm, dd = mm+1, 1\n",
        "  elif mm in [1,3,5,7,8,10] and dd == 31:\n",
        "    mm, dd = mm+1, 1\n",
        "  elif mm in [4,6,9,11] and dd == 30:\n",
        "    mm, dd = mm+1, 1\n",
        "  else:\n",
        "    dd += 1\n",
        "\n",
        "  print(f'{mm:02d}/{dd:02d}/{yyyy}')\n",
        "\n",
        "tomorrow(\"2018 12 31\")"
      ],
      "metadata": {
        "colab": {
          "base_uri": "https://localhost:8080/"
        },
        "id": "ku5O0r_PxwyM",
        "outputId": "e71edafc-4f52-4122-db5b-4a61230ea781"
      },
      "execution_count": null,
      "outputs": [
        {
          "output_type": "stream",
          "name": "stdout",
          "text": [
            "12/31/2018\n",
            "01/01/2019\n"
          ]
        }
      ]
    },
    {
      "cell_type": "code",
      "source": [
        "# 숫자 읽기 (0~9)\n",
        "\n",
        "def korean_number(n):\n",
        "  kor = ['영','일','이','삼','사','오','육','칠','팔','구']\n",
        "  num = list(range(10))\n",
        "  dic = dict(zip(num, kor))\n",
        "\n",
        "  return dic[n]\n",
        "\n",
        "korean_number(9)"
      ],
      "metadata": {
        "colab": {
          "base_uri": "https://localhost:8080/",
          "height": 36
        },
        "id": "eGlowoIx6UR9",
        "outputId": "9991962c-8ad8-43a2-9d14-2040f77a7d0f"
      },
      "execution_count": null,
      "outputs": [
        {
          "output_type": "execute_result",
          "data": {
            "text/plain": [
              "'구'"
            ],
            "application/vnd.google.colaboratory.intrinsic+json": {
              "type": "string"
            }
          },
          "metadata": {},
          "execution_count": 133
        }
      ]
    },
    {
      "cell_type": "code",
      "source": [
        "# 한자성어\n",
        "\n",
        "dic = {'江湖之樂(강호지락)' : '자연을 벗 삼아 누리는 즐거움'\n",
        "        , '欲速不達(욕속부달)' : '빨리 하고자 하면 이루지 못함'\n",
        "        , '積小成大(적소성대)' : '작은 것을 쌓아 큰 것을 이룸'\n",
        "        , '勤儉節約(근검절약)' : '부지런하고 알뜰하게 재물을 아낌'\n",
        "        , '經世濟民(경세제민)' : '세상을 다스리고 백성을 구제함'\n",
        "        , '塞翁之馬(새옹지마)' : '인생의 길흉화복은 변화가 많아서 예측하기가 어려움'\n",
        "        , '好事多魔(호사다마)' : '좋은 일에는 흔히 방해되는 일이 많음'\n",
        "        , '桑田碧海(상전벽해)' : '세상일의 변천이 심함'\n",
        "        , '自業自得(자업자득)' : '자기가 저지른 일의 결과를 자기가 받음'\n",
        "        , '因果應報(인과응보)' : '원인과 결과가 상응하여 보답한다'\n",
        "        , '愚公移山(우공이산)' : '어떤 일이든 끊임없이 노력하면 반드시 이루어짐'}\n",
        "for i in range(len(dic)):\n",
        "  input('Enter를 누르세요...')\n",
        "  print(list(dic.keys())[i])\n",
        "  print(list(dic.values())[i])\n",
        "  print(' ')"
      ],
      "metadata": {
        "id": "JWBOtQy--sBc"
      },
      "execution_count": null,
      "outputs": []
    },
    {
      "cell_type": "code",
      "source": [
        "# 정신 질환\n",
        "from string import ascii_lowercase\n",
        "\n",
        "def kor_eng(txt):\n",
        "  apb = list(ascii_lowercase)\n",
        "\n",
        "  d_list = txt.split('\\n')\n",
        "  name_kor, name_eng = [], []\n",
        "\n",
        "  for d in d_list:\n",
        "    s = d.split(' ')\n",
        "    kor, eng = [], []\n",
        "    for head in s:\n",
        "      if head[0].lower() in apb:\n",
        "        eng.append(head)\n",
        "      else:\n",
        "        kor.append(head)\n",
        "\n",
        "    name_eng.append(' '.join(eng))\n",
        "    name_kor.append(' '.join(kor))\n",
        "\n",
        "  return dict(zip(name_kor, name_eng))"
      ],
      "metadata": {
        "id": "NMPWaxrbAy3a"
      },
      "execution_count": null,
      "outputs": []
    },
    {
      "cell_type": "code",
      "source": [
        "txt = '''신경발달장애 Neurodevelopmental Disorders\n",
        "조현병 스펙트럼 및 기타 정신병적 장애 Schizophrenia Spectrum and Other Psychotic Disorders\n",
        "양극성 및 관련 장애 Bipolar and Related Disorders\n",
        "우울장애 Depressive Disorders\n",
        "불안장애 Anxiety Disorder\n",
        "강박 및 관련 장애 Obsessive－Compulsive and Related Disorders\n",
        "외상 및 스트레스 관련 장애 Trauma－and Stressor－Related Disorders\n",
        "해리장애 Dissociative Disorders\n",
        "신체증상 및 관련 장애 Somatic Symptom and Related Disorders\n",
        "급식 및 섭식장애 Feeding and Eating Disorders\n",
        "배설장애 Elimination Disorders\n",
        "수면－각성 장애 Sleep－Wake Disorders\n",
        "성기능부전 Sexual Dysfunctions\n",
        "성별 불쾌감 Gender Dysphoria\n",
        "파괴적, 충동조절 및 품행 장애 Disruptive, Impulse－Control, and Conduct Disorders\n",
        "물질관련 및 중독 장애 Substance－Related and Addictive Disorders\n",
        "신경인지장애 Neurocognitive Disorders\n",
        "성격장애 Personality Disorders\n",
        "변태성욕장애 Paraphilic Disorders\n",
        "기타 정신질환 Other Mental Disorders'''\n",
        "\n",
        "kor_eng(txt)"
      ],
      "metadata": {
        "colab": {
          "base_uri": "https://localhost:8080/"
        },
        "id": "lSxdQ8XSCf9J",
        "outputId": "b8ea08b3-2fe2-4b31-9a46-b8aacc5b2a8b"
      },
      "execution_count": null,
      "outputs": [
        {
          "output_type": "execute_result",
          "data": {
            "text/plain": [
              "{'신경발달장애': 'Neurodevelopmental Disorders',\n",
              " '조현병 스펙트럼 및 기타 정신병적 장애': 'Schizophrenia Spectrum and Other Psychotic Disorders',\n",
              " '양극성 및 관련 장애': 'Bipolar and Related Disorders',\n",
              " '우울장애': 'Depressive Disorders',\n",
              " '불안장애': 'Anxiety Disorder',\n",
              " '강박 및 관련 장애': 'Obsessive－Compulsive and Related Disorders',\n",
              " '외상 및 스트레스 관련 장애': 'Trauma－and Stressor－Related Disorders',\n",
              " '해리장애': 'Dissociative Disorders',\n",
              " '신체증상 및 관련 장애': 'Somatic Symptom and Related Disorders',\n",
              " '급식 및 섭식장애': 'Feeding and Eating Disorders',\n",
              " '배설장애': 'Elimination Disorders',\n",
              " '수면－각성 장애': 'Sleep－Wake Disorders',\n",
              " '성기능부전': 'Sexual Dysfunctions',\n",
              " '성별 불쾌감': 'Gender Dysphoria',\n",
              " '파괴적, 충동조절 및 품행 장애': 'Disruptive, Impulse－Control, and Conduct Disorders',\n",
              " '물질관련 및 중독 장애': 'Substance－Related and Addictive Disorders',\n",
              " '신경인지장애': 'Neurocognitive Disorders',\n",
              " '성격장애': 'Personality Disorders',\n",
              " '변태성욕장애': 'Paraphilic Disorders',\n",
              " '기타 정신질환': 'Other Mental Disorders'}"
            ]
          },
          "metadata": {},
          "execution_count": 155
        }
      ]
    },
    {
      "cell_type": "code",
      "source": [
        "# 정답 코드\n",
        "\n",
        "disorders = dict()\n",
        "\n",
        "# 아스키코드로 영어, 한글 구분\n",
        "is_eng = lambda x: 65 <= ord(x) <= 90 or 97 <= ord(x) <= 122\n",
        "\n",
        "for l in txt.splitlines():\n",
        "    i = 0\n",
        "    while not is_eng(l[i]):\n",
        "        i += 1\n",
        "    else:\n",
        "        ko, en = l[:i - 1], l[i:] # 영어 시작 위치 찾아서 슬라이싱\n",
        "        disorders[ko] = en\n",
        "\n",
        "print(disorders)"
      ],
      "metadata": {
        "colab": {
          "base_uri": "https://localhost:8080/"
        },
        "id": "che8YLliESyV",
        "outputId": "b9c6e8d2-e173-4004-fb3b-5b2a51e8d802"
      },
      "execution_count": null,
      "outputs": [
        {
          "output_type": "stream",
          "name": "stdout",
          "text": [
            "{'신경발달장애': 'Neurodevelopmental Disorders', '조현병 스펙트럼 및 기타 정신병적 장애': 'Schizophrenia Spectrum and Other Psychotic Disorders', '양극성 및 관련 장애': 'Bipolar and Related Disorders', '우울장애': 'Depressive Disorders', '불안장애': 'Anxiety Disorder', '강박 및 관련 장애': 'Obsessive－Compulsive and Related Disorders', '외상 및 스트레스 관련 장애': 'Trauma－and Stressor－Related Disorders', '해리장애': 'Dissociative Disorders', '신체증상 및 관련 장애': 'Somatic Symptom and Related Disorders', '급식 및 섭식장애': 'Feeding and Eating Disorders', '배설장애': 'Elimination Disorders', '수면－각성 장애': 'Sleep－Wake Disorders', '성기능부전': 'Sexual Dysfunctions', '성별 불쾌감': 'Gender Dysphoria', '파괴적, 충동조절 및 품행 장애': 'Disruptive, Impulse－Control, and Conduct Disorders', '물질관련 및 중독 장애': 'Substance－Related and Addictive Disorders', '신경인지장애': 'Neurocognitive Disorders', '성격장애': 'Personality Disorders', '변태성욕장애': 'Paraphilic Disorders', '기타 정신질환': 'Other Mental Disorders'}\n"
          ]
        }
      ]
    },
    {
      "cell_type": "code",
      "source": [
        "# 프랙털\n",
        "\n",
        "l = '0000000000000000000000000000001000000000000000000000000000000'\n",
        "print(l)\n",
        "\n",
        "rule = {'111':'0', '110':'1'\n",
        "    , '101':'0', '100':'1'\n",
        "    , '011':'1', '010':'0'\n",
        "    , '001':'1', '000':'0'}\n",
        "\n",
        "next = l\n",
        "while next[1] != '1':\n",
        "  next = ['0']\n",
        "  for i in range(len(l)-2):\n",
        "    next.append(rule[l[i:i+3]])\n",
        "  next.append('0')\n",
        "  result = ''.join(next)\n",
        "  print(result)\n",
        "\n",
        "  l = result\n"
      ],
      "metadata": {
        "colab": {
          "base_uri": "https://localhost:8080/"
        },
        "id": "MEMn3iJTFAnY",
        "outputId": "3442baaf-79d7-4b3d-9040-2f33b48000a6"
      },
      "execution_count": null,
      "outputs": [
        {
          "output_type": "stream",
          "name": "stdout",
          "text": [
            "0000000000000000000000000000001000000000000000000000000000000\n",
            "0000000000000000000000000000010100000000000000000000000000000\n",
            "0000000000000000000000000000100010000000000000000000000000000\n",
            "0000000000000000000000000001010101000000000000000000000000000\n",
            "0000000000000000000000000010000000100000000000000000000000000\n",
            "0000000000000000000000000101000001010000000000000000000000000\n",
            "0000000000000000000000001000100010001000000000000000000000000\n",
            "0000000000000000000000010101010101010100000000000000000000000\n",
            "0000000000000000000000100000000000000010000000000000000000000\n",
            "0000000000000000000001010000000000000101000000000000000000000\n",
            "0000000000000000000010001000000000001000100000000000000000000\n",
            "0000000000000000000101010100000000010101010000000000000000000\n",
            "0000000000000000001000000010000000100000001000000000000000000\n",
            "0000000000000000010100000101000001010000010100000000000000000\n",
            "0000000000000000100010001000100010001000100010000000000000000\n",
            "0000000000000001010101010101010101010101010101000000000000000\n",
            "0000000000000010000000000000000000000000000000100000000000000\n",
            "0000000000000101000000000000000000000000000001010000000000000\n",
            "0000000000001000100000000000000000000000000010001000000000000\n",
            "0000000000010101010000000000000000000000000101010100000000000\n",
            "0000000000100000001000000000000000000000001000000010000000000\n",
            "0000000001010000010100000000000000000000010100000101000000000\n",
            "0000000010001000100010000000000000000000100010001000100000000\n",
            "0000000101010101010101000000000000000001010101010101010000000\n",
            "0000001000000000000000100000000000000010000000000000001000000\n",
            "0000010100000000000001010000000000000101000000000000010100000\n",
            "0000100010000000000010001000000000001000100000000000100010000\n",
            "0001010101000000000101010100000000010101010000000001010101000\n",
            "0010000000100000001000000010000000100000001000000010000000100\n",
            "0101000001010000010100000101000001010000010100000101000001010\n"
          ]
        }
      ]
    },
    {
      "cell_type": "code",
      "source": [
        "# 정답인지 아닌지 내 답과 정답 비교"
      ],
      "metadata": {
        "id": "Fo1GHzERypQy"
      },
      "execution_count": null,
      "outputs": []
    },
    {
      "cell_type": "code",
      "source": [
        "a = \"\"\"0000000000000000000000000000001000000000000000000000000000000\n",
        "0000000000000000000000000000010100000000000000000000000000000\n",
        "0000000000000000000000000000100010000000000000000000000000000\n",
        "0000000000000000000000000001010101000000000000000000000000000\n",
        "0000000000000000000000000010000000100000000000000000000000000\n",
        "0000000000000000000000000101000001010000000000000000000000000\n",
        "0000000000000000000000001000100010001000000000000000000000000\n",
        "0000000000000000000000010101010101010100000000000000000000000\n",
        "0000000000000000000000100000000000000010000000000000000000000\n",
        "0000000000000000000001010000000000000101000000000000000000000\n",
        "0000000000000000000010001000000000001000100000000000000000000\n",
        "0000000000000000000101010100000000010101010000000000000000000\n",
        "0000000000000000001000000010000000100000001000000000000000000\n",
        "0000000000000000010100000101000001010000010100000000000000000\n",
        "0000000000000000100010001000100010001000100010000000000000000\n",
        "0000000000000001010101010101010101010101010101000000000000000\n",
        "0000000000000010000000000000000000000000000000100000000000000\n",
        "0000000000000101000000000000000000000000000001010000000000000\n",
        "0000000000001000100000000000000000000000000010001000000000000\n",
        "0000000000010101010000000000000000000000000101010100000000000\n",
        "0000000000100000001000000000000000000000001000000010000000000\n",
        "0000000001010000010100000000000000000000010100000101000000000\n",
        "0000000010001000100010000000000000000000100010001000100000000\n",
        "0000000101010101010101000000000000000001010101010101010000000\n",
        "0000001000000000000000100000000000000010000000000000001000000\n",
        "0000010100000000000001010000000000000101000000000000010100000\n",
        "0000100010000000000010001000000000001000100000000000100010000\n",
        "0001010101000000000101010100000000010101010000000001010101000\n",
        "0010000000100000001000000010000000100000001000000010000000100\n",
        "0101000001010000010100000101000001010000010100000101000001010\"\"\""
      ],
      "metadata": {
        "id": "mYO_8PHKLUOr"
      },
      "execution_count": null,
      "outputs": []
    },
    {
      "cell_type": "code",
      "source": [
        "b = \"\"\"0000000000000000000000000000001000000000000000000000000000000\n",
        "0000000000000000000000000000010100000000000000000000000000000\n",
        "0000000000000000000000000000100010000000000000000000000000000\n",
        "0000000000000000000000000001010101000000000000000000000000000\n",
        "0000000000000000000000000010000000100000000000000000000000000\n",
        "0000000000000000000000000101000001010000000000000000000000000\n",
        "0000000000000000000000001000100010001000000000000000000000000\n",
        "0000000000000000000000010101010101010100000000000000000000000\n",
        "0000000000000000000000100000000000000010000000000000000000000\n",
        "0000000000000000000001010000000000000101000000000000000000000\n",
        "0000000000000000000010001000000000001000100000000000000000000\n",
        "0000000000000000000101010100000000010101010000000000000000000\n",
        "0000000000000000001000000010000000100000001000000000000000000\n",
        "0000000000000000010100000101000001010000010100000000000000000\n",
        "0000000000000000100010001000100010001000100010000000000000000\n",
        "0000000000000001010101010101010101010101010101000000000000000\n",
        "0000000000000010000000000000000000000000000000100000000000000\n",
        "0000000000000101000000000000000000000000000001010000000000000\n",
        "0000000000001000100000000000000000000000000010001000000000000\n",
        "0000000000010101010000000000000000000000000101010100000000000\n",
        "0000000000100000001000000000000000000000001000000010000000000\n",
        "0000000001010000010100000000000000000000010100000101000000000\n",
        "0000000010001000100010000000000000000000100010001000100000000\n",
        "0000000101010101010101000000000000000001010101010101010000000\n",
        "0000001000000000000000100000000000000010000000000000001000000\n",
        "0000010100000000000001010000000000000101000000000000010100000\n",
        "0000100010000000000010001000000000001000100000000000100010000\n",
        "0001010101000000000101010100000000010101010000000001010101000\n",
        "0010000000100000001000000010000000100000001000000010000000100\n",
        "0101000001010000010100000101000001010000010100000101000001010\"\"\""
      ],
      "metadata": {
        "id": "CXI96EnIQenq"
      },
      "execution_count": null,
      "outputs": []
    },
    {
      "cell_type": "code",
      "source": [
        "a == b"
      ],
      "metadata": {
        "colab": {
          "base_uri": "https://localhost:8080/"
        },
        "id": "miISyAm5ylaY",
        "outputId": "81160249-5d31-491a-de23-1f56aba47572"
      },
      "execution_count": null,
      "outputs": [
        {
          "output_type": "execute_result",
          "data": {
            "text/plain": [
              "True"
            ]
          },
          "metadata": {},
          "execution_count": 5
        }
      ]
    },
    {
      "cell_type": "code",
      "source": [
        "# 주사위 눈의 합\n",
        "\n",
        "dice1 = (1, 2, 3, 4, 5, 6)\n",
        "dice2 = (2, 3, 5, 7, 11, 13)\n",
        "\n",
        "num = set()\n",
        "\n",
        "for i in dice1:\n",
        "  for j in dice2:\n",
        "    num.add(i+j)\n",
        "\n",
        "print(num)"
      ],
      "metadata": {
        "colab": {
          "base_uri": "https://localhost:8080/"
        },
        "id": "rCRlFUMlymSM",
        "outputId": "b0df7730-910e-439b-9a43-8bea4eeaf41d"
      },
      "execution_count": null,
      "outputs": [
        {
          "output_type": "stream",
          "name": "stdout",
          "text": [
            "{3, 4, 5, 6, 7, 8, 9, 10, 11, 12, 13, 14, 15, 16, 17, 18, 19}\n"
          ]
        }
      ]
    },
    {
      "cell_type": "code",
      "source": [
        "# 끝말 잇기 (1)\n",
        "\n",
        "com_list = ['게맛살', '구멍', '글라이더', '대롱', '더치페이', '롱다리',\n",
        "            '리본', '멍게', '박쥐', '본네트', '빨대', '살구', '양심', '이빨',\n",
        "            '이자', '자율', '주기', '쥐구멍', '차박', '트라이앵글']\n",
        "\n",
        "print('''<시작> 끝말잇기를 하자. 내가 먼저 말할게.\n",
        "기차''')\n",
        "\n",
        "word = '기차'\n",
        "out = {'기차'}\n",
        "end = False\n",
        "\n",
        "while end == False:\n",
        "  player = input()\n",
        "\n",
        "  if player == '졌어':\n",
        "    end = True\n",
        "\n",
        "  elif player in out:\n",
        "    print(\"아까 했던 말이야. 내가 이겼어! <끝>\")\n",
        "    end = True\n",
        "\n",
        "  elif word[-1] != player[0]:\n",
        "    print('글자가 안 이어져. 내가 이겼다! <끝>')\n",
        "    end = True\n",
        "\n",
        "  elif word[-1] == player[0]:\n",
        "    w = []\n",
        "\n",
        "    for i in com_list:\n",
        "      if i[0] == player[-1] and i not in out:\n",
        "        w.append(i)\n",
        "\n",
        "    if len(w) == 0:\n",
        "      print(\"모르겠다. 내가 졌어. <끝>\")\n",
        "      end = True\n",
        "      break\n",
        "\n",
        "    print(w[0])\n",
        "    out.add(w[0])\n",
        "    word = w[0]\n",
        "\n",
        "  out.add(player)\n"
      ],
      "metadata": {
        "colab": {
          "base_uri": "https://localhost:8080/"
        },
        "id": "_he6zfx703bt",
        "outputId": "cb79b4db-5101-4476-d444-24d2dd56d9ba"
      },
      "execution_count": null,
      "outputs": [
        {
          "output_type": "stream",
          "name": "stdout",
          "text": [
            "<시작> 끝말잇기를 하자. 내가 먼저 말할게.\n",
            "기차\n",
            "자동차\n",
            "글자가 안 이어져. 내가 이겼다! <끝>\n"
          ]
        }
      ]
    },
    {
      "cell_type": "code",
      "source": [
        "import calendar\n",
        "\n",
        "calendar.prmonth(2023, 7)"
      ],
      "metadata": {
        "colab": {
          "base_uri": "https://localhost:8080/"
        },
        "id": "XZmbWwl83Rl0",
        "outputId": "474bf54a-5838-416e-f369-c1b123e97c44"
      },
      "execution_count": null,
      "outputs": [
        {
          "output_type": "stream",
          "name": "stdout",
          "text": [
            "     July 2023\n",
            "Mo Tu We Th Fr Sa Su\n",
            "                1  2\n",
            " 3  4  5  6  7  8  9\n",
            "10 11 12 13 14 15 16\n",
            "17 18 19 20 21 22 23\n",
            "24 25 26 27 28 29 30\n",
            "31\n"
          ]
        }
      ]
    },
    {
      "cell_type": "code",
      "source": [
        "import calendar\n",
        "\n",
        "[x for x in dir(calendar) if 'leap' in x]"
      ],
      "metadata": {
        "colab": {
          "base_uri": "https://localhost:8080/"
        },
        "id": "DiWc-IiyCZ0y",
        "outputId": "881b6a02-f13b-40ba-fa19-e4d5b8eafd1c"
      },
      "execution_count": null,
      "outputs": [
        {
          "output_type": "execute_result",
          "data": {
            "text/plain": [
              "['isleap', 'leapdays']"
            ]
          },
          "metadata": {},
          "execution_count": 3
        }
      ]
    },
    {
      "cell_type": "code",
      "source": [
        "help(calendar.isleap)"
      ],
      "metadata": {
        "colab": {
          "base_uri": "https://localhost:8080/"
        },
        "id": "_gZdjcZQLQny",
        "outputId": "b4e3ce61-b513-4cfe-a672-e87432f53cba"
      },
      "execution_count": null,
      "outputs": [
        {
          "output_type": "stream",
          "name": "stdout",
          "text": [
            "Help on function isleap in module calendar:\n",
            "\n",
            "isleap(year)\n",
            "    Return True for leap years, False for non-leap years.\n",
            "\n"
          ]
        }
      ]
    },
    {
      "cell_type": "code",
      "source": [
        "calendar.isleap(2077)"
      ],
      "metadata": {
        "colab": {
          "base_uri": "https://localhost:8080/"
        },
        "id": "6NqwdHSXLcGm",
        "outputId": "8ba140c8-c7ac-4068-b958-1f0f876f649e"
      },
      "execution_count": null,
      "outputs": [
        {
          "output_type": "execute_result",
          "data": {
            "text/plain": [
              "False"
            ]
          },
          "metadata": {},
          "execution_count": 6
        }
      ]
    },
    {
      "cell_type": "code",
      "source": [
        "# 직각삼각형의 빗변 길이 구하기\n",
        "\n",
        "from math import *\n",
        "\n",
        "a, b = 3, 4\n",
        "sqrt(a**2 + b**2)"
      ],
      "metadata": {
        "colab": {
          "base_uri": "https://localhost:8080/"
        },
        "id": "ySL-yaR1Ll6O",
        "outputId": "aec2bc13-dad4-48fc-d370-1fd1eed95f16"
      },
      "execution_count": null,
      "outputs": [
        {
          "output_type": "execute_result",
          "data": {
            "text/plain": [
              "5.0"
            ]
          },
          "metadata": {},
          "execution_count": 1
        }
      ]
    },
    {
      "cell_type": "code",
      "source": [
        "def hypotenuse(a, b):\n",
        "  return round(sqrt(a**2 + b**2), 2)"
      ],
      "metadata": {
        "id": "0V6nZg-YM0n1"
      },
      "execution_count": null,
      "outputs": []
    },
    {
      "cell_type": "code",
      "source": [
        "hypotenuse(10, 20)"
      ],
      "metadata": {
        "colab": {
          "base_uri": "https://localhost:8080/"
        },
        "id": "26fBZXJhM9aW",
        "outputId": "91e95b87-24f6-48c6-afc5-f8c86944f16f"
      },
      "execution_count": null,
      "outputs": [
        {
          "output_type": "execute_result",
          "data": {
            "text/plain": [
              "22.36"
            ]
          },
          "metadata": {},
          "execution_count": 4
        }
      ]
    },
    {
      "cell_type": "code",
      "source": [
        "# calendar\n",
        "\n",
        "import calendar\n",
        "\n",
        "c = calendar.TextCalendar()\n",
        "m = c.formatmonth(2021, 2)\n",
        "print(m)"
      ],
      "metadata": {
        "colab": {
          "base_uri": "https://localhost:8080/"
        },
        "id": "FlhBuCXGM_6b",
        "outputId": "a45513c9-f79d-4f91-baff-a98b55f5916e"
      },
      "execution_count": null,
      "outputs": [
        {
          "output_type": "stream",
          "name": "stdout",
          "text": [
            "   February 2021\n",
            "Mo Tu We Th Fr Sa Su\n",
            " 1  2  3  4  5  6  7\n",
            " 8  9 10 11 12 13 14\n",
            "15 16 17 18 19 20 21\n",
            "22 23 24 25 26 27 28\n",
            "\n"
          ]
        }
      ]
    },
    {
      "cell_type": "code",
      "source": [
        "# 놀이공원 (2) 사전 준비\n",
        "\n",
        "# 놀이공원 (1)에서 만든 함수\n",
        "\n",
        "def read(text):\n",
        "    ridename = text.split(':')[0]\n",
        "    cm_text = text.split(':')[1]\n",
        "\n",
        "    cm = list(map(lambda x: x.strip(), cm_text.split('cm')))\n",
        "    if cm_text.strip() == '-':\n",
        "      cmmin = None\n",
        "      cmmax = None\n",
        "    elif cm[1][0] == '~':\n",
        "      cmmin = cm[0]\n",
        "      cmmax = cm[1][1:]\n",
        "    elif cm[1] == '이상' or cm[1] == '이하':\n",
        "      if cm[1] == '이상':\n",
        "        cmmin = cm[0]\n",
        "        cmmax = None\n",
        "      else:\n",
        "        cmmin = None\n",
        "        cmmax = cm[0]\n",
        "\n",
        "    return ridename, cmmin, cmmax\n",
        "\n",
        "# 따로 파일로 저장해서 코랩 파일에 넣는다.\n",
        "# ??\n"
      ],
      "metadata": {
        "id": "kwVfuWQcNZRk"
      },
      "execution_count": null,
      "outputs": []
    },
    {
      "cell_type": "code",
      "source": [
        "rides = '''와일드 윙: 110cm 이상\n",
        "드림보트: 120cm 이상\n",
        "자이안트 루프: 120cm 이상\n",
        "툼 오브 호러: -\n",
        "플라이벤처: 140cm~195cm\n",
        "회전목마: 100cm 이상\n",
        "매직 붕붕카: 110cm~140cm'''\n",
        "\n",
        "for lst in rides.split('\\n'):\n",
        "\n",
        "      ridename, cmmin, cmmax = read(lst)\n",
        "      print(ridename, cmmin, cmmax)"
      ],
      "metadata": {
        "colab": {
          "base_uri": "https://localhost:8080/"
        },
        "id": "IxwOWegAUPcd",
        "outputId": "487ba4a8-bb9f-4ca5-8f8a-c8cd52b5f24a"
      },
      "execution_count": null,
      "outputs": [
        {
          "output_type": "stream",
          "name": "stdout",
          "text": [
            "와일드 윙 110 None\n",
            "드림보트 120 None\n",
            "자이안트 루프 120 None\n",
            "툼 오브 호러 None None\n",
            "플라이벤처 140 195\n",
            "회전목마 100 None\n",
            "매직 붕붕카 110 140\n"
          ]
        }
      ]
    },
    {
      "cell_type": "code",
      "source": [
        "rides = '''와일드 윙: 110cm 이상\n",
        "드림보트: 120cm 이상\n",
        "자이안트 루프: 120cm 이상\n",
        "툼 오브 호러: -\n",
        "플라이벤처: 140cm~195cm\n",
        "회전목마: 100cm 이상\n",
        "매직 붕붕카: 110cm~140cm'''\n",
        "\n",
        "\n",
        "def allowedrides(height):\n",
        "    assert type(height) == int\n",
        "\n",
        "    result = []\n",
        "\n",
        "    for lst in rides.split('\\n'):\n",
        "\n",
        "      ridename, cmmin, cmmax = read(lst)\n",
        "\n",
        "      if cmmin == None:\n",
        "        cmmin = 0\n",
        "      if cmmax == None:\n",
        "        cmmax = 1000\n",
        "\n",
        "      if int(cmmin) <= int(height) <= int(cmmax):\n",
        "        result.append(ridename)\n",
        "\n",
        "    return result\n",
        "\n",
        "\n",
        "if __name__ == \"__main__\":\n",
        "    height = int(input())\n",
        "\n",
        "    output = allowedrides(height)\n",
        "    for ride in output:\n",
        "      print(ride)"
      ],
      "metadata": {
        "colab": {
          "base_uri": "https://localhost:8080/"
        },
        "id": "GKa4Y3lJOaL5",
        "outputId": "5361ebca-b67b-4a4f-f68b-ff3359d81af0"
      },
      "execution_count": null,
      "outputs": [
        {
          "output_type": "stream",
          "name": "stdout",
          "text": [
            "179\n",
            "와일드 윙\n",
            "드림보트\n",
            "자이안트 루프\n",
            "툼 오브 호러\n",
            "플라이벤처\n",
            "회전목마\n"
          ]
        }
      ]
    },
    {
      "cell_type": "code",
      "source": [
        "# 놀이 공원 (3)\n",
        "\n",
        "rides = '''와일드 윙: 110cm 이상\n",
        "드림보트: 120cm 이상\n",
        "자이안트 루프: 120cm 이상\n",
        "툼 오브 호러: -\n",
        "플라이벤처: 140cm~195cm\n",
        "회전목마: 100cm 이상\n",
        "매직 붕붕카: 110cm~140cm'''\n",
        "\n",
        "\n",
        "def allowedrides(height):\n",
        "    # assert type(height) == int\n",
        "\n",
        "    result = []\n",
        "\n",
        "    for lst in rides.split('\\n'):\n",
        "\n",
        "      ridename, cmmin, cmmax = read(lst)\n",
        "\n",
        "      if cmmin == None:\n",
        "        cmmin = 0\n",
        "      if cmmax == None:\n",
        "        cmmax = 1000\n",
        "\n",
        "      if int(cmmin) <= int(height) <= int(cmmax):\n",
        "        result.append(ridename)\n",
        "\n",
        "    return result\n",
        "\n",
        "\n",
        "if __name__ == \"__main__\":\n",
        "    heights = input()\n",
        "    output = [set(), set(), set()]\n",
        "\n",
        "    for idx, h in enumerate(heights.split(' ')):\n",
        "      for i in allowedrides(h):\n",
        "        output[idx].add(i)\n",
        "\n",
        "    together = output[0] & output[1] & output[2]\n",
        "\n",
        "    for i in together:\n",
        "      print(i)"
      ],
      "metadata": {
        "colab": {
          "base_uri": "https://localhost:8080/"
        },
        "id": "uEJ9EeLlPywe",
        "outputId": "c503dd6d-0431-45ea-ec40-11bcd0b219ad"
      },
      "execution_count": null,
      "outputs": [
        {
          "output_type": "stream",
          "name": "stdout",
          "text": [
            "120 110 179\n",
            "툼 오브 호러\n",
            "회전목마\n",
            "와일드 윙\n"
          ]
        }
      ]
    },
    {
      "cell_type": "code",
      "source": [
        "# 정답 코드\n",
        "# 놀이공원(2)를 모듈로 임포트함\n",
        "\n",
        "import park\n",
        "\n",
        "setlist = []\n",
        "\n",
        "for height in input().split():\n",
        "    setlist.append(set(park.allowedrides(int(height))))\n",
        "\n",
        "for ride in set.intersection(*setlist):\n",
        "    print(ride)"
      ],
      "metadata": {
        "id": "tReFknadYiCj"
      },
      "execution_count": null,
      "outputs": []
    },
    {
      "cell_type": "code",
      "source": [
        "# sys 모듈\n",
        "\n",
        "import sys\n",
        "sys.ps1"
      ],
      "metadata": {
        "colab": {
          "base_uri": "https://localhost:8080/",
          "height": 36
        },
        "id": "p9VSlr-hc4sd",
        "outputId": "b54221c8-061e-4ded-a726-a5e536043f3f"
      },
      "execution_count": null,
      "outputs": [
        {
          "output_type": "execute_result",
          "data": {
            "text/plain": [
              "'In : '"
            ],
            "application/vnd.google.colaboratory.intrinsic+json": {
              "type": "string"
            }
          },
          "metadata": {},
          "execution_count": 1
        }
      ]
    },
    {
      "cell_type": "code",
      "source": [
        "import re, glob\n",
        "\n",
        "p = re.compile('s.*')\n",
        "\n",
        "for i in glob.glob('*'):\n",
        "  m = p.match(i)\n",
        "  if m:\n",
        "    print(m.group())"
      ],
      "metadata": {
        "colab": {
          "base_uri": "https://localhost:8080/"
        },
        "id": "xVqAVJ4-0zWC",
        "outputId": "a5bafd9c-ce92-4446-a7c1-11bc9a02c258"
      },
      "execution_count": null,
      "outputs": [
        {
          "output_type": "stream",
          "name": "stdout",
          "text": [
            "sample_data\n"
          ]
        }
      ]
    },
    {
      "cell_type": "code",
      "source": [
        "# 웹브라우저도 코랩에서는 실행 x\n",
        "# 터미널에서는 작동\n",
        "\n",
        "import webbrowser\n",
        "\n",
        "url='http://www.python.org/'\n",
        "\n",
        "webbrowser.open(url)"
      ],
      "metadata": {
        "colab": {
          "base_uri": "https://localhost:8080/"
        },
        "id": "ghHx75Ho56Mj",
        "outputId": "13038e0e-9540-4e87-8a71-6bb317155ab1"
      },
      "execution_count": null,
      "outputs": [
        {
          "output_type": "execute_result",
          "data": {
            "text/plain": [
              "False"
            ]
          },
          "metadata": {},
          "execution_count": 13
        }
      ]
    },
    {
      "cell_type": "code",
      "source": [
        "# 랜덤 모듈\n",
        "\n",
        "import random\n",
        "random.random()"
      ],
      "metadata": {
        "colab": {
          "base_uri": "https://localhost:8080/"
        },
        "id": "eM8-bgif6VxL",
        "outputId": "cc83d7ae-bb9e-446f-d953-35ef8961c39a"
      },
      "execution_count": null,
      "outputs": [
        {
          "output_type": "execute_result",
          "data": {
            "text/plain": [
              "0.22645863806007893"
            ]
          },
          "metadata": {},
          "execution_count": 14
        }
      ]
    },
    {
      "cell_type": "code",
      "source": [
        "# 밴드 이름 짓기 (1)\n",
        "import random\n",
        "\n",
        "color = ('땡땡이', '베이지', '블랙', '블루', '회색', '청색', '레드', '파란', '핑크', '그레이', '베이지', '화이트', '청', '초록', '회색', '노랑', '인디안 핑크', '차콜', '브라운', '검은', '분홍')\n",
        "food = ('소라과자', '아이스 바닐라 라떼', '소보로', '쭈꾸미', '요거트 아이스크림', '오란다', '와플', '아이스티', '로제 떡볶이', '스트로베리', '커피', '진라면', '초코퍼지', '닭갈비', '크래커', '맥스봉', '라떼', '참외', '소시지', '햄버거', '콰삭칩', '된찌', '오렌지', '옹심이', '아메리카노')\n",
        "\n",
        "name = random.choice(color) + ' ' + random.choice(food)\n",
        "print(name)"
      ],
      "metadata": {
        "colab": {
          "base_uri": "https://localhost:8080/"
        },
        "id": "ed1UB2WH7Csj",
        "outputId": "87a074d7-1ad5-4af3-eb7d-2df09ce91ccb"
      },
      "execution_count": null,
      "outputs": [
        {
          "output_type": "stream",
          "name": "stdout",
          "text": [
            "차콜 와플\n"
          ]
        }
      ]
    },
    {
      "cell_type": "code",
      "source": [
        "# 비밀번호 만들기\n",
        "\n",
        "import string\n",
        "import random\n",
        "\n",
        "eng = set(string.ascii_letters) - set('lIO')\n",
        "dig = set(string.digits) - set('0')\n",
        "chars = list(eng | dig)\n",
        "sc = '_'\n",
        "\n",
        "pw = []\n",
        "pw.append(random.choice(sc))\n",
        "\n",
        "for i in range(15):\n",
        "  pw.append(random.choice(chars))\n",
        "\n",
        "random.shuffle(pw)\n",
        "\n",
        "print(''.join(pw))"
      ],
      "metadata": {
        "colab": {
          "base_uri": "https://localhost:8080/"
        },
        "id": "JonQtPij853H",
        "outputId": "f56b5f60-153c-4f7c-8622-c720e6125ad8"
      },
      "execution_count": null,
      "outputs": [
        {
          "output_type": "stream",
          "name": "stdout",
          "text": [
            "srCaTGE9sLcG_a71\n"
          ]
        }
      ]
    },
    {
      "cell_type": "code",
      "source": [
        "# 시저 암호 만들기\n",
        "import string\n",
        "\n",
        "old = string.ascii_lowercase\n",
        "new = string.ascii_uppercase[3:] + string.ascii_uppercase[:3]\n",
        "\n",
        "tt = str.maketrans(old, new)\n",
        "\n",
        "text = 'traue nie dem brutus'\n",
        "text.translate(tt)"
      ],
      "metadata": {
        "colab": {
          "base_uri": "https://localhost:8080/",
          "height": 36
        },
        "id": "M99ml9Y6Ba60",
        "outputId": "19526a3d-a098-44f7-8c9d-3a6e38826fd1"
      },
      "execution_count": null,
      "outputs": [
        {
          "output_type": "execute_result",
          "data": {
            "text/plain": [
              "'WUDXH QLH GHP EUXWXV'"
            ],
            "application/vnd.google.colaboratory.intrinsic+json": {
              "type": "string"
            }
          },
          "metadata": {},
          "execution_count": 34
        }
      ]
    },
    {
      "cell_type": "code",
      "source": [
        "# 연습 문제 - 끝말 잇기 (2)\n",
        "\n",
        "com_list = ['게맛살', '구멍', '글라이더', '대롱', '더치페이', '롱다리',\n",
        "            '리본', '멍게', '박쥐', '본네트', '빨대', '살구', '양심', '이빨',\n",
        "            '이자', '자율', '주기', '쥐구멍', '차박', '트라이앵글']\n",
        "\n",
        "# 두음법칙\n",
        "rule = {'량':'양', '리':'이'}\n",
        "\n",
        "print('''<시작> 끝말잇기를 하자. 내가 먼저 말할게.\n",
        "기차''')\n",
        "\n",
        "word = '기차'\n",
        "out = {'기차'}\n",
        "end = False\n",
        "\n",
        "while end == False:\n",
        "  player = input()\n",
        "\n",
        "  if player == '졌어':\n",
        "    end = True\n",
        "\n",
        "  elif player in out:\n",
        "    print(\"아까 했던 말이야. 내가 이겼어! <끝>\")\n",
        "    end = True\n",
        "\n",
        "  elif word[-1] != player[0]:\n",
        "    print('글자가 안 이어져. 내가 이겼다! <끝>')\n",
        "    end = True\n",
        "\n",
        "  elif word[-1] == player[0]:\n",
        "    w = []\n",
        "\n",
        "    for i in com_list:\n",
        "      if i[0] == player[-1] and i not in out:\n",
        "        w.append(i)\n",
        "      # 추가된 부분\n",
        "      elif player[-1] in rule.keys():\n",
        "        player = player[:-1] + rule[player[-1]]\n",
        "        if i[0] == player[-1] and i not in out:\n",
        "          w.append(i)\n",
        "\n",
        "    if len(w) == 0:\n",
        "      print(\"모르겠다. 내가 졌어. <끝>\")\n",
        "      end = True\n",
        "      break\n",
        "\n",
        "    print(w[0])\n",
        "    out.add(w[0])\n",
        "    word = w[0]\n",
        "\n",
        "  out.add(player)"
      ],
      "metadata": {
        "id": "b7qeen4xGVhX",
        "colab": {
          "base_uri": "https://localhost:8080/"
        },
        "outputId": "7502f029-041e-4e40-a2cd-047eccd1c6a4"
      },
      "execution_count": 3,
      "outputs": [
        {
          "output_type": "stream",
          "name": "stdout",
          "text": [
            "<시작> 끝말잇기를 하자. 내가 먼저 말할게.\n",
            "기차\n",
            "차량\n",
            "양심\n",
            "심술\n",
            "모르겠다. 내가 졌어. <끝>\n"
          ]
        }
      ]
    },
    {
      "cell_type": "code",
      "source": [
        "# 정답 코드 - 두음법칙 모든 글자 다 사전으로 만들기\n",
        "\n",
        "def trans_first(word):\n",
        "    s1 = \"냥녀뇨니라락란래량려렷로론뢰료루류륜리\"\n",
        "    s2 = \"양여요이나낙난내양여엿노논뇌요누유윤이\"\n",
        "    tt = str.maketrans(s1, s2)\n",
        "    return word[0].translate(tt) + word[1:]"
      ],
      "metadata": {
        "id": "TQxhSw87QShT"
      },
      "execution_count": 4,
      "outputs": []
    },
    {
      "cell_type": "code",
      "source": [
        "# 내일의 날짜 구하기 (2)\n",
        "import datetime\n",
        "\n",
        "def tomorrow(date):\n",
        "  yyyy, mm, dd = map(int, date.split(' '))\n",
        "  today = datetime.date(yyyy, mm, dd)\n",
        "\n",
        "  print(today.strftime('%Y/%m/%d'))\n",
        "\n",
        "  tom = today + datetime.timedelta(days=1)\n",
        "\n",
        "  print(tom.strftime('%Y/%m/%d'))\n",
        "\n",
        "tomorrow(\"2018 12 31\")"
      ],
      "metadata": {
        "colab": {
          "base_uri": "https://localhost:8080/"
        },
        "id": "LaiHpClwQ_Xr",
        "outputId": "6a30d862-e4e0-4927-bae6-df56449dade6"
      },
      "execution_count": 34,
      "outputs": [
        {
          "output_type": "stream",
          "name": "stdout",
          "text": [
            "2018/12/31\n",
            "2019/01/01\n"
          ]
        }
      ]
    },
    {
      "cell_type": "code",
      "source": [
        "# 원주율 구하기\n",
        "\n",
        "# turtle 지원 x\n",
        "# 추후 한번에 실습"
      ],
      "metadata": {
        "id": "4dyQzyx8RTWQ"
      },
      "execution_count": 36,
      "outputs": []
    },
    {
      "cell_type": "code",
      "source": [
        "# 파일 실습\n",
        "\n",
        "f = open('prac.txt')\n",
        "lines = f.readlines()\n",
        "lines[-5:]"
      ],
      "metadata": {
        "colab": {
          "base_uri": "https://localhost:8080/"
        },
        "id": "-UrqLOGeUIYF",
        "outputId": "6aa7d0f3-b375-454f-d235-3d730743be99"
      },
      "execution_count": 40,
      "outputs": [
        {
          "output_type": "execute_result",
          "data": {
            "text/plain": [
              "['5번째 줄\\n', '6번째 줄\\n', '7번째 줄\\n', '8번째 줄\\n', '9번째 줄\\n']"
            ]
          },
          "metadata": {},
          "execution_count": 40
        }
      ]
    },
    {
      "cell_type": "code",
      "source": [
        "# 밴드 이름 짓기 (2)\n",
        "\n",
        "import random\n",
        "\n",
        "food = open('food.txt')\n",
        "color = open('color.txt')\n",
        "f_lines = [f.replace('\\n', '') for f in food.readlines()]\n",
        "c_lines = [c.replace('\\n', '') for c in color.readlines()]\n",
        "\n",
        "print(random.choice(c_lines) + ' ' + random.choice(f_lines))"
      ],
      "metadata": {
        "colab": {
          "base_uri": "https://localhost:8080/"
        },
        "id": "UJX5iimRa0DC",
        "outputId": "28930aef-4d07-4461-a16f-293d6295dada"
      },
      "execution_count": 45,
      "outputs": [
        {
          "output_type": "stream",
          "name": "stdout",
          "text": [
            "스카이블루 감자튀기\n"
          ]
        }
      ]
    },
    {
      "cell_type": "code",
      "source": [
        "# 비밀 메시지\n",
        "\n",
        "# 1. 파일 열기\n",
        "mess = open('postcard.txt')\n",
        "txt = mess.readlines()\n",
        "\n",
        "# 2. 본문 추려내기\n",
        "main = txt[txt.index('\\n')+1:]\n",
        "main = main[:main.index('\\n')]\n",
        "\n",
        "# for s in main:\n",
        "#   print(s)\n",
        "\n",
        "# 3. 문장부호 제거\n",
        "\n",
        "sign = list('.,:')\n",
        "\n",
        "filter = []\n",
        "for i in main:\n",
        "  line = i.replace('.', '')\n",
        "  line = line.replace(',', '')\n",
        "  line = line.replace(':', '')\n",
        "  filter.append(line)\n",
        "\n",
        "# for s in filter:\n",
        "#   print(s)\n",
        "\n",
        "# 4. 대문자 변환\n",
        "upper = []\n",
        "for s in filter:\n",
        "  upper.append(s.upper())\n",
        "\n",
        "# 5. 비밀 메시지 출력\n",
        "hide = []\n",
        "for s in upper:\n",
        "  hide.append(' '.join(s.split()[:2]))\n",
        "\n",
        "' '.join(hide)"
      ],
      "metadata": {
        "colab": {
          "base_uri": "https://localhost:8080/",
          "height": 54
        },
        "id": "PvIYtGs3a4Mq",
        "outputId": "f9cafade-158d-45fc-b3df-6a1723f4c083"
      },
      "execution_count": 85,
      "outputs": [
        {
          "output_type": "execute_result",
          "data": {
            "text/plain": [
              "'AFTER SURRENDER FIFTY PERCENT AMERICANS LOST IN PHILIPPINES IN NIPPON 30% SALARY'"
            ],
            "application/vnd.google.colaboratory.intrinsic+json": {
              "type": "string"
            }
          },
          "metadata": {},
          "execution_count": 85
        }
      ]
    },
    {
      "cell_type": "code",
      "source": [
        "# 정답 코드\n",
        "\n",
        "# 1\n",
        "txt = open(\"postcard.txt\", \"r\").read()\n",
        "print(\"*** 1. Full Text ***\\n\" + txt + '\\n')\n",
        "\n",
        "# 2\n",
        "head, body, tail = tuple(txt.split('\\n\\n'))\n",
        "print(\"*** 2. Body ***\\n\" + body + '\\n')\n",
        "\n",
        "# 3\n",
        "import re\n",
        "s = re.sub('[:,\\.]', '', body)\n",
        "print(\"*** 3. Text without Punctuation ***\\n\" + s + '\\n')\n",
        "\n",
        "# 4\n",
        "s = s.upper()\n",
        "print(\"*** 4. Uppercase ***\\n\" + s + '\\n')\n",
        "\n",
        "# 5\n",
        "secret_words = []\n",
        "for line in s.split('\\n'):\n",
        "    secret_words += line.split()[:2]\n",
        "\n",
        "message = ' '.join(secret_words)\n",
        "print(\"*** 5. Secret Message ***\\n\" + message)"
      ],
      "metadata": {
        "id": "_c02Z7oEkZJP"
      },
      "execution_count": null,
      "outputs": []
    },
    {
      "cell_type": "code",
      "source": [
        "# 연습 문제 - 끝말 잇기 (3)\n",
        "\n",
        "f = open('words.txt')\n",
        "word_list = f.read().split('\\n')\n",
        "word_list.remove('')\n",
        "\n",
        "# 두음법칙\n",
        "s1 = \"냥녀뇨니라락란래량려렷로론뢰료루류륜리\"\n",
        "s2 = \"양여요이나낙난내양여엿노논뇌요누유윤이\"\n",
        "rule = dict(zip(list(s1), list(s2)))\n",
        "\n",
        "print('''<시작> 끝말잇기를 하자. 내가 먼저 말할게.\n",
        "기차''')\n",
        "\n",
        "word = '기차'\n",
        "out = {'기차'}\n",
        "end = False\n",
        "\n",
        "while end == False:\n",
        "  player = input()\n",
        "\n",
        "  if player == '졌어':\n",
        "    print('오예! <끝>')\n",
        "    end = True\n",
        "\n",
        "  elif player not in word_list:\n",
        "    print(\"유효하지 않은 단어야. <끝>\")\n",
        "    end = True\n",
        "\n",
        "  elif player in out:\n",
        "    print(\"아까 했던 말이야. 내가 이겼어! <끝>\")\n",
        "    end = True\n",
        "\n",
        "  elif word[-1] != player[0]:\n",
        "    print('글자가 안 이어져. 내가 이겼다! <끝>')\n",
        "    end = True\n",
        "\n",
        "  elif word[-1] == player[0]:\n",
        "    w = []\n",
        "\n",
        "    for i in word_list:\n",
        "      if i[0] == player[-1] and i not in out:\n",
        "        w.append(i)\n",
        "\n",
        "      elif player[-1] in rule.keys():\n",
        "        player = player[:-1] + rule[player[-1]]\n",
        "        if i[0] == player[-1] and i not in out:\n",
        "          w.append(i)\n",
        "\n",
        "    if len(w) == 0:\n",
        "      print(\"모르겠다. 내가 졌어. <끝>\")\n",
        "      end = True\n",
        "      break\n",
        "\n",
        "    print(w[0])\n",
        "    out.add(w[0])\n",
        "    word = w[0]\n",
        "\n",
        "  out.add(player)"
      ],
      "metadata": {
        "colab": {
          "base_uri": "https://localhost:8080/"
        },
        "id": "UnTDQUhblc9i",
        "outputId": "5f56c3ea-166a-416d-df61-d1a17fa98847"
      },
      "execution_count": 101,
      "outputs": [
        {
          "output_type": "stream",
          "name": "stdout",
          "text": [
            "<시작> 끝말잇기를 하자. 내가 먼저 말할게.\n",
            "기차\n",
            "차량\n",
            "양보\n",
            "보자기\n",
            "유효하지 않은 단어야. <끝>\n"
          ]
        }
      ]
    },
    {
      "cell_type": "code",
      "source": [
        "# 공백 때문에 out of range 오류 발생\n",
        "# 삭제 필요\n",
        "word_list.sort(key=len)\n",
        "word_list"
      ],
      "metadata": {
        "id": "RMUb2xPfmwpM"
      },
      "execution_count": null,
      "outputs": []
    },
    {
      "cell_type": "code",
      "source": [
        "# 연습문제 - 영어 퀴즈\n",
        "# 인코딩 코드 추가 필요\n",
        "\n",
        "f = open('ko_en.txt', encoding='euc-kr')\n",
        "ko_en = f.readlines()\n",
        "body = ko_en[1:]\n",
        "\n",
        "kor = []\n",
        "eng = []\n",
        "for s in body:\n",
        "  kor.append(s.split('\\t')[0])\n",
        "  eng.append(s.split('\\t')[1][:-1])\n",
        "\n",
        "quiz = dict(zip(kor, eng))\n",
        "quiz"
      ],
      "metadata": {
        "colab": {
          "base_uri": "https://localhost:8080/"
        },
        "id": "B6sNZ8kFmxAZ",
        "outputId": "7a43273c-cfd1-4900-9e57-dce39934dee9"
      },
      "execution_count": 117,
      "outputs": [
        {
          "output_type": "execute_result",
          "data": {
            "text/plain": [
              "{'나는 학생이다.': 'I am a student.',\n",
              " '그녀는 내 언니이다.': 'She is my sister.',\n",
              " '그녀는 행복하다.': 'She is happy.',\n",
              " '너는 피곤하다.': 'You are tired.',\n",
              " '너는 집에 있다.': 'You are home.',\n",
              " '그들은 교실에 있다.': 'They are in the classroom.',\n",
              " '그녀는 작가이다.': 'She is a writer.',\n",
              " '그들은 친절하다.': 'They are kind.',\n",
              " '그들은 뉴욕에 있다.': 'They are in New York.',\n",
              " '그녀는 작가가 아니다.': 'She is not a writer.',\n",
              " '그들은 친절하지 않다.': 'They are not kind.',\n",
              " '그들은 뉴욕에 있지 않다.': 'They are not in New York.',\n",
              " '그녀는 작가인가요?': 'Is she a writer?',\n",
              " '그들은 친절한가요?': 'Are they kind?',\n",
              " '그들은 뉴욕에 있나요?': 'Are they in New York'}"
            ]
          },
          "metadata": {},
          "execution_count": 117
        }
      ]
    },
    {
      "cell_type": "code",
      "source": [
        "import random\n",
        "\n",
        "print('Write the following sentence in English.')\n",
        "q = random.choice(list(quiz.keys()))\n",
        "print(q, '\\n')\n",
        "\n",
        "ans = input('your answer: ')\n",
        "\n",
        "if ans == quiz[q]:\n",
        "  print('\\nresult: Correct!')\n",
        "else:\n",
        "  print('\\nresult: Not correct!')\n",
        "  print(f'right answer: {quiz[q]}')"
      ],
      "metadata": {
        "colab": {
          "base_uri": "https://localhost:8080/"
        },
        "id": "7YY_oUoVpuZP",
        "outputId": "fd8cbf1f-9075-4705-ac77-8b1e870022b6"
      },
      "execution_count": 128,
      "outputs": [
        {
          "output_type": "stream",
          "name": "stdout",
          "text": [
            "Write the following sentence in English.\n",
            "그들은 교실에 있다. \n",
            "\n",
            "your answer: They are in the classroom.\n",
            "\n",
            "result: Correct!\n"
          ]
        }
      ]
    },
    {
      "cell_type": "code",
      "source": [
        "# 정답 코드 - 퀴즈 다 풀 때 까지 반복함\n",
        "\n",
        "import random\n",
        "\n",
        "d = dict()\n",
        "\n",
        "with open('ko_en.txt', encoding='euc-kr') as f:\n",
        "    for line in f.readlines()[1:]:\n",
        "        k, v = tuple(line.split('\\t'))\n",
        "        d[k] = v\n",
        "\n",
        "quiz = list(d.keys())\n",
        "random.shuffle(quiz)\n",
        "\n",
        "while True:\n",
        "    if len(quiz) == 0:\n",
        "        break\n",
        "\n",
        "    q = quiz.pop()\n",
        "    print(\"Write the following sentence in English.\")\n",
        "    print(q)\n",
        "    a = input(\"\\nyour answer: \")\n",
        "\n",
        "    if a == d[q].rstrip():\n",
        "        print('\\nresult: Correct!')\n",
        "    else:\n",
        "        print(\"\\nresult: Not correct!\")\n",
        "        print(\"right answer:\" + d[q].rstrip() + '\\n')\n",
        "\n",
        "    input()\n",
        "\n",
        "    print('-' * 80)"
      ],
      "metadata": {
        "id": "hvnI5hFxsUDq"
      },
      "execution_count": null,
      "outputs": []
    },
    {
      "cell_type": "code",
      "source": [
        "import pickle\n",
        "\n",
        "users = {'kim':'3kid9', 'sun80':'393948', 'ljm':'py90390'}\n",
        "\n",
        "f = open('users', 'wb')  # 바이트(byte) 형식으로 쓰겠다(write)는 뜻\n",
        "pickle.dump(users, f)\n",
        "\n",
        "f.close()"
      ],
      "metadata": {
        "id": "179PFJl_O1-z"
      },
      "execution_count": 134,
      "outputs": []
    },
    {
      "cell_type": "code",
      "source": [
        "import os\n",
        "\n",
        "os.path.exists('users')  # users 이름의 파일이 생김"
      ],
      "metadata": {
        "colab": {
          "base_uri": "https://localhost:8080/"
        },
        "id": "j1h-0WhTQXfd",
        "outputId": "c51c3601-5095-4c8a-b91b-7952e9818b1b"
      },
      "execution_count": 135,
      "outputs": [
        {
          "output_type": "execute_result",
          "data": {
            "text/plain": [
              "True"
            ]
          },
          "metadata": {},
          "execution_count": 135
        }
      ]
    },
    {
      "cell_type": "code",
      "source": [
        "f = open('users', 'rb') # Read Byte\n",
        "a = pickle.load(f)\n",
        "\n",
        "print(a)"
      ],
      "metadata": {
        "colab": {
          "base_uri": "https://localhost:8080/"
        },
        "id": "fBZBFxGsO_qt",
        "outputId": "f3f44422-5221-4bc2-d0ea-d0cc9c40f8fd"
      },
      "execution_count": 136,
      "outputs": [
        {
          "output_type": "stream",
          "name": "stdout",
          "text": [
            "{'kim': '3kid9', 'sun80': '393948', 'ljm': 'py90390'}\n"
          ]
        }
      ]
    },
    {
      "cell_type": "code",
      "source": [
        "from glob import glob\n",
        "glob('*.txt')"
      ],
      "metadata": {
        "colab": {
          "base_uri": "https://localhost:8080/"
        },
        "id": "A2uio6lhQepC",
        "outputId": "82795a5b-2a54-431e-b6b3-c21c07938f9f"
      },
      "execution_count": 138,
      "outputs": [
        {
          "output_type": "execute_result",
          "data": {
            "text/plain": [
              "['postcard.txt', 'ko_en.txt', 'prac.txt', 'food.txt', 'words.txt', 'color.txt']"
            ]
          },
          "metadata": {},
          "execution_count": 138
        }
      ]
    },
    {
      "cell_type": "code",
      "source": [
        "from glob import glob\n",
        "from os.path import isdir\n",
        "\n",
        "for x in glob('*'):\n",
        "    if isdir(x):\n",
        "        print(x, '<DIR>')\n",
        "    else:\n",
        "        print(x)"
      ],
      "metadata": {
        "colab": {
          "base_uri": "https://localhost:8080/"
        },
        "id": "p1B5jslASH6n",
        "outputId": "472b231c-6ee8-4210-ca7b-1deaf538fd06"
      },
      "execution_count": 139,
      "outputs": [
        {
          "output_type": "stream",
          "name": "stdout",
          "text": [
            "postcard.txt\n",
            "ko_en.txt\n",
            "users\n",
            "prac.txt\n",
            "food.txt\n",
            "words.txt\n",
            "color.txt\n",
            "sample_data <DIR>\n"
          ]
        }
      ]
    },
    {
      "cell_type": "code",
      "source": [
        "%cd 애국가"
      ],
      "metadata": {
        "colab": {
          "base_uri": "https://localhost:8080/"
        },
        "id": "PZ7YKnjVb_jQ",
        "outputId": "c673ebd8-4987-4d1f-eb2b-f3a79c026b01"
      },
      "execution_count": 145,
      "outputs": [
        {
          "output_type": "stream",
          "name": "stdout",
          "text": [
            "[Errno 2] No such file or directory: '애국가'\n",
            "/content/애국가\n"
          ]
        }
      ]
    },
    {
      "cell_type": "code",
      "source": [
        "# 연습 문제 - 애국가\n",
        "\n",
        "all = glob('korean_national_anthem_*')\n",
        "all.sort()\n",
        "\n",
        "out = open('out.txt', 'wt')\n",
        "\n",
        "for i in all:\n",
        "  f = open(i, encoding = 'euc-kr')\n",
        "\n",
        "  out.write(i + '\\n')\n",
        "  out.write('-'*30 + '\\n')\n",
        "  out.write(f.read() + '\\n\\n')\n",
        "\n",
        "out.close()"
      ],
      "metadata": {
        "id": "uTU6G7B_ZVGe"
      },
      "execution_count": 152,
      "outputs": []
    },
    {
      "cell_type": "code",
      "source": [
        "# 음성 인식을 활용한 일본어 퀴즈\n",
        "\n"
      ],
      "metadata": {
        "id": "oPSwi56mbcYa"
      },
      "execution_count": 153,
      "outputs": []
    },
    {
      "cell_type": "code",
      "source": [],
      "metadata": {
        "id": "EryMxFfedst8"
      },
      "execution_count": null,
      "outputs": []
    }
  ]
}