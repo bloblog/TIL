{
 "cells": [
  {
   "attachments": {},
   "cell_type": "markdown",
   "metadata": {},
   "source": [
    "### 난이도 - 하"
   ]
  },
  {
   "cell_type": "code",
   "execution_count": null,
   "metadata": {},
   "outputs": [],
   "source": [
    "# 홀수만 더하기\n",
    "\n",
    "for i in range(1, T+1):\n",
    "    answer = 0\n",
    "    for j in map(int, input().split()):\n",
    "        if j % 2 == 1:\n",
    "            answer += j\n",
    "    print(f'#{i} {answer}')\n"
   ]
  },
  {
   "cell_type": "code",
   "execution_count": null,
   "metadata": {},
   "outputs": [],
   "source": [
    "# 최대수 구하기\n",
    "\n",
    "T = int(input())\n",
    " \n",
    "for i in range(1, T + 1):\n",
    "    num = map(int, input().split())\n",
    "    max_val = max(num)\n",
    "    print(f'#{i} {max_val}')\n"
   ]
  },
  {
   "cell_type": "code",
   "execution_count": null,
   "metadata": {},
   "outputs": [],
   "source": [
    "# 중간값 찾기\n",
    "\n",
    "T = int(input())\n",
    "num = list(map(int, input().split()))\n",
    "num.sort()\n",
    "answer = num[T // 2]\n",
    "print(answer)\n"
   ]
  },
  {
   "cell_type": "code",
   "execution_count": null,
   "metadata": {},
   "outputs": [],
   "source": [
    "# 자릿수 더하기\n",
    "\n",
    "T = input()\n",
    "num = map(int, list(T))\n",
    "print(sum(num))\n"
   ]
  },
  {
   "cell_type": "code",
   "execution_count": null,
   "metadata": {},
   "outputs": [],
   "source": [
    "\n",
    "# 1대1 가위바위보\n",
    "\n",
    "T = input()\n",
    "a, b = map(int, T.split())\n",
    " \n",
    "if a == 1:\n",
    "    if b == 2:\n",
    "        print('B')\n",
    "    elif b == 3:\n",
    "        print('A')\n",
    "elif a == 2:\n",
    "      if b == 1:\n",
    "          print('A')\n",
    "      elif b == 3:\n",
    "          print('B')\n",
    "elif a == 3:\n",
    "      if b == 1:\n",
    "          print('B')\n",
    "      elif b == 2:\n",
    "          print('A')"
   ]
  }
 ],
 "metadata": {
  "language_info": {
   "name": "python"
  },
  "orig_nbformat": 4
 },
 "nbformat": 4,
 "nbformat_minor": 2
}
