{
 "cells": [
  {
   "attachments": {},
   "cell_type": "markdown",
   "metadata": {},
   "source": [
    "## [프로그래머스 문제 링크](https://school.programmers.co.kr/learn/challenges/beginner?order=acceptance_desc&languages=python3&page=3)"
   ]
  },
  {
   "attachments": {},
   "cell_type": "markdown",
   "metadata": {},
   "source": [
    "### 2023.04.25"
   ]
  },
  {
   "cell_type": "code",
   "execution_count": null,
   "metadata": {},
   "outputs": [],
   "source": [
    "# 외계 행성의 나이\n",
    "def solution(age):\n",
    "    answer = ''\n",
    "    # list comprehension\n",
    "    num_list = [str(i) for i in range(10)]\n",
    "    apb_dict = dict(zip(num_list, ['a','b','c','d','e','f','g','h','i','j']))\n",
    "    for i in range(len(str(age))):\n",
    "        answer += apb_dict[str(age)[i]]\n",
    "    return answer\n",
    "    \n",
    "\n",
    "# 가장 큰 수 찾기\n",
    "def solution(array):\n",
    "    answer = []\n",
    "    # 내장함수 enumerate()\n",
    "    for i, val in enumerate(array):\n",
    "        array_sorted = sorted(array, reverse=True)\n",
    "        if val == array_sorted[0]:\n",
    "            answer.append(val)\n",
    "            answer.append(i)\n",
    "    return answer\n",
    "    \n",
    "\n",
    "# 피자 나눠 먹기(2)\n",
    "# 최소공배수 문제\n",
    "def solution(n):\n",
    "    answer = 0\n",
    "    for i in range(max(n,6), n*6+1):\n",
    "        if i%n == 0 and i%6 == 0:\n",
    "            answer = i\n",
    "            break\n",
    "    return answer/6\n",
    "    \n",
    "# 모스부호 (1)\n",
    "# 알파벳 리스트 만들기\n",
    "from string import ascii_lowercase\n",
    "\n",
    "apb_list = list(ascii_lowercase)\n",
    "morse_list = [\".-\",\"-...\",\"-.-.\",\"-..\",\".\",\"..-.\",\"--.\",\"....\",\"..\",\".---\",\"-.-\",\".-..\",\"--\",\"-.\",\"---\",\".--.\",\"--.-\",\".-.\",\"...\",\"-\",\"..-\",\"...-\",\".--\",\"-..-\",\"-.--\",\"--..\"]\n",
    "morse_dict = dict(zip(morse_list, apb_list))\n",
    "\n",
    "def solution(letter):\n",
    "    answer = ''\n",
    "    letter = letter.split(' ')\n",
    "    for i in letter:\n",
    "        answer += morse_dict[i]\n",
    "    return answer"
   ]
  }
 ],
 "metadata": {
  "language_info": {
   "name": "python"
  },
  "orig_nbformat": 4
 },
 "nbformat": 4,
 "nbformat_minor": 2
}
