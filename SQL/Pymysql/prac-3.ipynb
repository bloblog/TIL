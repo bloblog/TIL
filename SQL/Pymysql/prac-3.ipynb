{
 "cells": [
  {
   "cell_type": "code",
   "execution_count": null,
   "id": "2423bd13",
   "metadata": {},
   "outputs": [],
   "source": [
    "#!pip install PyMySQL"
   ]
  },
  {
   "cell_type": "code",
   "execution_count": 2,
   "id": "9381ea86",
   "metadata": {},
   "outputs": [],
   "source": [
    "import pymysql\n",
    "import pandas.io.sql as psql\n",
    "import pandas as pd"
   ]
  },
  {
   "cell_type": "code",
   "execution_count": 4,
   "id": "6a82fca3",
   "metadata": {},
   "outputs": [
    {
     "name": "stderr",
     "output_type": "stream",
     "text": [
      "/var/folders/l5/366nz8fs75gdr134874nc3nc0000gn/T/ipykernel_5082/2757554021.py:7: UserWarning: pandas only supports SQLAlchemy connectable (engine/connection) or database string URI or sqlite3 DBAPI2 connection. Other DBAPI2 objects are not tested. Please consider using SQLAlchemy.\n",
      "  df_access_log = psql.read_sql(sql, conn)\n"
     ]
    },
    {
     "data": {
      "text/html": [
       "<div>\n",
       "<style scoped>\n",
       "    .dataframe tbody tr th:only-of-type {\n",
       "        vertical-align: middle;\n",
       "    }\n",
       "\n",
       "    .dataframe tbody tr th {\n",
       "        vertical-align: top;\n",
       "    }\n",
       "\n",
       "    .dataframe thead th {\n",
       "        text-align: right;\n",
       "    }\n",
       "</style>\n",
       "<table border=\"1\" class=\"dataframe\">\n",
       "  <thead>\n",
       "    <tr style=\"text-align: right;\">\n",
       "      <th></th>\n",
       "      <th>stamp</th>\n",
       "      <th>referrer</th>\n",
       "      <th>url</th>\n",
       "    </tr>\n",
       "  </thead>\n",
       "  <tbody>\n",
       "    <tr>\n",
       "      <th>0</th>\n",
       "      <td>2016-08-26 12:02:00</td>\n",
       "      <td>http://www.other.com/path1/index.php?k1=v1&amp;k2=...</td>\n",
       "      <td>http://www.example.com/video/detail?id=001</td>\n",
       "    </tr>\n",
       "    <tr>\n",
       "      <th>1</th>\n",
       "      <td>2016-08-26 12:02:01</td>\n",
       "      <td>http://www.other.net/path1/index.php?k1=v1&amp;k2=...</td>\n",
       "      <td>http://www.example.com/video#ref</td>\n",
       "    </tr>\n",
       "    <tr>\n",
       "      <th>2</th>\n",
       "      <td>2016-08-26 12:02:01</td>\n",
       "      <td>https://www.other.com/</td>\n",
       "      <td>http://www.example.com/book/detail?id=002</td>\n",
       "    </tr>\n",
       "  </tbody>\n",
       "</table>\n",
       "</div>"
      ],
      "text/plain": [
       "                 stamp                                           referrer  \\\n",
       "0  2016-08-26 12:02:00  http://www.other.com/path1/index.php?k1=v1&k2=...   \n",
       "1  2016-08-26 12:02:01  http://www.other.net/path1/index.php?k1=v1&k2=...   \n",
       "2  2016-08-26 12:02:01                             https://www.other.com/   \n",
       "\n",
       "                                          url  \n",
       "0  http://www.example.com/video/detail?id=001  \n",
       "1            http://www.example.com/video#ref  \n",
       "2   http://www.example.com/book/detail?id=002  "
      ]
     },
     "execution_count": 4,
     "metadata": {},
     "output_type": "execute_result"
    }
   ],
   "source": [
    "with pymysql.connect(database='webmarket', \n",
    "                     host='localhost', \n",
    "                     port=3306, \n",
    "                     user='root', \n",
    "                     password='****') as conn:\n",
    "  sql = \"SELECT * FROM access_log\"\n",
    "  df_access_log = psql.read_sql(sql, conn)\n",
    "\n",
    "df_access_log"
   ]
  },
  {
   "cell_type": "code",
   "execution_count": 5,
   "id": "779dcf35",
   "metadata": {},
   "outputs": [],
   "source": [
    "from urllib.parse import urlparse"
   ]
  },
  {
   "cell_type": "code",
   "execution_count": 6,
   "id": "81e7bd58",
   "metadata": {
    "scrolled": true
   },
   "outputs": [
    {
     "data": {
      "text/html": [
       "<div>\n",
       "<style scoped>\n",
       "    .dataframe tbody tr th:only-of-type {\n",
       "        vertical-align: middle;\n",
       "    }\n",
       "\n",
       "    .dataframe tbody tr th {\n",
       "        vertical-align: top;\n",
       "    }\n",
       "\n",
       "    .dataframe thead th {\n",
       "        text-align: right;\n",
       "    }\n",
       "</style>\n",
       "<table border=\"1\" class=\"dataframe\">\n",
       "  <thead>\n",
       "    <tr style=\"text-align: right;\">\n",
       "      <th></th>\n",
       "      <th>stamp</th>\n",
       "      <th>url</th>\n",
       "      <th>path</th>\n",
       "      <th>id</th>\n",
       "    </tr>\n",
       "  </thead>\n",
       "  <tbody>\n",
       "    <tr>\n",
       "      <th>0</th>\n",
       "      <td>2016-08-26 12:02:00</td>\n",
       "      <td>http://www.example.com/video/detail?id=001</td>\n",
       "      <td>/video/detail</td>\n",
       "      <td>001</td>\n",
       "    </tr>\n",
       "    <tr>\n",
       "      <th>1</th>\n",
       "      <td>2016-08-26 12:02:01</td>\n",
       "      <td>http://www.example.com/video#ref</td>\n",
       "      <td>/video</td>\n",
       "      <td></td>\n",
       "    </tr>\n",
       "    <tr>\n",
       "      <th>2</th>\n",
       "      <td>2016-08-26 12:02:01</td>\n",
       "      <td>http://www.example.com/book/detail?id=002</td>\n",
       "      <td>/book/detail</td>\n",
       "      <td>002</td>\n",
       "    </tr>\n",
       "  </tbody>\n",
       "</table>\n",
       "</div>"
      ],
      "text/plain": [
       "                 stamp                                         url  \\\n",
       "0  2016-08-26 12:02:00  http://www.example.com/video/detail?id=001   \n",
       "1  2016-08-26 12:02:01            http://www.example.com/video#ref   \n",
       "2  2016-08-26 12:02:01   http://www.example.com/book/detail?id=002   \n",
       "\n",
       "            path   id  \n",
       "0  /video/detail  001  \n",
       "1         /video       \n",
       "2   /book/detail  002  "
      ]
     },
     "execution_count": 6,
     "metadata": {},
     "output_type": "execute_result"
    }
   ],
   "source": [
    "df_access_log['path'] = df_access_log['url'].apply(lambda url: urlparse(url).path)\n",
    "df_access_log['id'] = df_access_log['url'].apply(lambda url: urlparse(url).query)\\\n",
    "                        .str.replace('id=', '')\n",
    "df_access_log[['stamp', 'url', 'path', 'id']]"
   ]
  },
  {
   "cell_type": "code",
   "execution_count": null,
   "id": "6c35d31d",
   "metadata": {},
   "outputs": [],
   "source": []
  }
 ],
 "metadata": {
  "kernelspec": {
   "display_name": "Python 3 (ipykernel)",
   "language": "python",
   "name": "python3"
  },
  "language_info": {
   "codemirror_mode": {
    "name": "ipython",
    "version": 3
   },
   "file_extension": ".py",
   "mimetype": "text/x-python",
   "name": "python",
   "nbconvert_exporter": "python",
   "pygments_lexer": "ipython3",
   "version": "3.9.6"
  },
  "toc": {
   "base_numbering": 1,
   "nav_menu": {},
   "number_sections": true,
   "sideBar": true,
   "skip_h1_title": false,
   "title_cell": "Table of Contents",
   "title_sidebar": "Contents",
   "toc_cell": false,
   "toc_position": {},
   "toc_section_display": true,
   "toc_window_display": true
  }
 },
 "nbformat": 4,
 "nbformat_minor": 5
}
