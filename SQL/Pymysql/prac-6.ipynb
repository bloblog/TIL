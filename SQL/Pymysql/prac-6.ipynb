{
 "cells": [
  {
   "cell_type": "code",
   "execution_count": null,
   "id": "2423bd13",
   "metadata": {},
   "outputs": [],
   "source": [
    "#!pip install PyMySQL"
   ]
  },
  {
   "cell_type": "code",
   "execution_count": 1,
   "id": "9381ea86",
   "metadata": {},
   "outputs": [],
   "source": [
    "import pymysql\n",
    "import pandas.io.sql as psql\n",
    "import pandas as pd"
   ]
  },
  {
   "cell_type": "code",
   "execution_count": 2,
   "id": "6a82fca3",
   "metadata": {},
   "outputs": [
    {
     "name": "stderr",
     "output_type": "stream",
     "text": [
      "/var/folders/l5/366nz8fs75gdr134874nc3nc0000gn/T/ipykernel_5603/2490880495.py:15: UserWarning: pandas only supports SQLAlchemy connectable (engine/connection) or database string URI or sqlite3 DBAPI2 connection. Other DBAPI2 objects are not tested. Please consider using SQLAlchemy.\n",
      "  df_now = psql.read_sql(sql, conn)\n"
     ]
    },
    {
     "data": {
      "text/html": [
       "<div>\n",
       "<style scoped>\n",
       "    .dataframe tbody tr th:only-of-type {\n",
       "        vertical-align: middle;\n",
       "    }\n",
       "\n",
       "    .dataframe tbody tr th {\n",
       "        vertical-align: top;\n",
       "    }\n",
       "\n",
       "    .dataframe thead th {\n",
       "        text-align: right;\n",
       "    }\n",
       "</style>\n",
       "<table border=\"1\" class=\"dataframe\">\n",
       "  <thead>\n",
       "    <tr style=\"text-align: right;\">\n",
       "      <th></th>\n",
       "      <th>stamp</th>\n",
       "      <th>year</th>\n",
       "      <th>month</th>\n",
       "      <th>day</th>\n",
       "      <th>hour</th>\n",
       "    </tr>\n",
       "  </thead>\n",
       "  <tbody>\n",
       "    <tr>\n",
       "      <th>0</th>\n",
       "      <td>2022-07-27 12:00:00</td>\n",
       "      <td>2022</td>\n",
       "      <td>7</td>\n",
       "      <td>27</td>\n",
       "      <td>12</td>\n",
       "    </tr>\n",
       "  </tbody>\n",
       "</table>\n",
       "</div>"
      ],
      "text/plain": [
       "                stamp  year  month  day  hour\n",
       "0 2022-07-27 12:00:00  2022      7   27    12"
      ]
     },
     "execution_count": 2,
     "metadata": {},
     "output_type": "execute_result"
    }
   ],
   "source": [
    "with pymysql.connect(database='webmarket', \n",
    "                     host='localhost', \n",
    "                     port=3306, \n",
    "                     user='root', \n",
    "                     password='####') as conn:\n",
    "  sql = \"\"\"SELECT\n",
    "            stamp,\n",
    "            EXTRACT(YEAR FROM stamp) AS year,\n",
    "            EXTRACT(MONTH FROM stamp) AS month,\n",
    "            EXTRACT(DAY FROM stamp) AS day,\n",
    "            EXTRACT(HOUR FROM stamp) AS hour\n",
    "            FROM\n",
    "                (SELECT timestamp '2022-07-27 12:00:00' AS stamp) AS t\n",
    "            \"\"\"\n",
    "  df_now = psql.read_sql(sql, conn)\n",
    "\n",
    "df_now"
   ]
  },
  {
   "cell_type": "code",
   "execution_count": 3,
   "id": "c28bb22f",
   "metadata": {},
   "outputs": [
    {
     "data": {
      "text/html": [
       "<div>\n",
       "<style scoped>\n",
       "    .dataframe tbody tr th:only-of-type {\n",
       "        vertical-align: middle;\n",
       "    }\n",
       "\n",
       "    .dataframe tbody tr th {\n",
       "        vertical-align: top;\n",
       "    }\n",
       "\n",
       "    .dataframe thead th {\n",
       "        text-align: right;\n",
       "    }\n",
       "</style>\n",
       "<table border=\"1\" class=\"dataframe\">\n",
       "  <thead>\n",
       "    <tr style=\"text-align: right;\">\n",
       "      <th></th>\n",
       "      <th>timestamp</th>\n",
       "    </tr>\n",
       "  </thead>\n",
       "  <tbody>\n",
       "    <tr>\n",
       "      <th>0</th>\n",
       "      <td>2022-07-27 12:00:00</td>\n",
       "    </tr>\n",
       "  </tbody>\n",
       "</table>\n",
       "</div>"
      ],
      "text/plain": [
       "            timestamp\n",
       "0 2022-07-27 12:00:00"
      ]
     },
     "execution_count": 3,
     "metadata": {},
     "output_type": "execute_result"
    }
   ],
   "source": [
    "df = pd.DataFrame({'timestamp': ['2022-07-27 12:00:00']})\n",
    "df['timestamp'] = pd.to_datetime(df['timestamp'], format='%Y-%m-%d %H:%M:%S')\n",
    "df"
   ]
  },
  {
   "cell_type": "code",
   "execution_count": 13,
   "id": "38fc9fe9",
   "metadata": {},
   "outputs": [
    {
     "name": "stdout",
     "output_type": "stream",
     "text": [
      "0    2022-07-27\n",
      "Name: timestamp, dtype: object\n",
      "0    2022\n",
      "Name: timestamp, dtype: int32\n",
      "0    7\n",
      "Name: timestamp, dtype: int32\n",
      "0    July\n",
      "Name: timestamp, dtype: object\n",
      "0    27\n",
      "Name: timestamp, dtype: int32\n",
      "0    12:00:00\n",
      "Name: timestamp, dtype: object\n",
      "0    12\n",
      "Name: timestamp, dtype: int32\n",
      "0    0\n",
      "Name: timestamp, dtype: int32\n",
      "0    0\n",
      "Name: timestamp, dtype: int32\n",
      "0    0\n",
      "Name: timestamp, dtype: int32\n"
     ]
    }
   ],
   "source": [
    "print (df['timestamp'].dt.date)\n",
    "print (df['timestamp'].dt.year)\n",
    "print (df['timestamp'].dt.month)\n",
    "print (df['timestamp'].dt.month_name())\n",
    "print (df['timestamp'].dt.day)\n",
    "print (df['timestamp'].dt.time)\n",
    "print (df['timestamp'].dt.hour)\n",
    "print (df['timestamp'].dt.minute)\n",
    "print (df['timestamp'].dt.second)\n",
    "print (df['timestamp'].dt.microsecond)"
   ]
  },
  {
   "cell_type": "code",
   "execution_count": null,
   "id": "cad15ad0",
   "metadata": {},
   "outputs": [],
   "source": []
  }
 ],
 "metadata": {
  "kernelspec": {
   "display_name": "Python 3 (ipykernel)",
   "language": "python",
   "name": "python3"
  },
  "language_info": {
   "codemirror_mode": {
    "name": "ipython",
    "version": 3
   },
   "file_extension": ".py",
   "mimetype": "text/x-python",
   "name": "python",
   "nbconvert_exporter": "python",
   "pygments_lexer": "ipython3",
   "version": "3.8.12"
  },
  "toc": {
   "base_numbering": 1,
   "nav_menu": {},
   "number_sections": true,
   "sideBar": true,
   "skip_h1_title": false,
   "title_cell": "Table of Contents",
   "title_sidebar": "Contents",
   "toc_cell": false,
   "toc_position": {},
   "toc_section_display": true,
   "toc_window_display": true
  }
 },
 "nbformat": 4,
 "nbformat_minor": 5
}
