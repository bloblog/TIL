{
 "cells": [
  {
   "cell_type": "code",
   "execution_count": null,
   "id": "2423bd13",
   "metadata": {},
   "outputs": [],
   "source": [
    "#!pip install PyMySQL"
   ]
  },
  {
   "cell_type": "code",
   "execution_count": 2,
   "id": "9381ea86",
   "metadata": {},
   "outputs": [],
   "source": [
    "import pymysql\n",
    "import pandas.io.sql as psql\n",
    "import pandas as pd"
   ]
  },
  {
   "cell_type": "code",
   "execution_count": 3,
   "id": "6a82fca3",
   "metadata": {},
   "outputs": [
    {
     "name": "stderr",
     "output_type": "stream",
     "text": [
      "/var/folders/l5/366nz8fs75gdr134874nc3nc0000gn/T/ipykernel_5230/3012845895.py:10: UserWarning: pandas only supports SQLAlchemy connectable (engine/connection) or database string URI or sqlite3 DBAPI2 connection. Other DBAPI2 objects are not tested. Please consider using SQLAlchemy.\n",
      "  df_now = psql.read_sql(sql, conn)\n"
     ]
    },
    {
     "data": {
      "text/html": [
       "<div>\n",
       "<style scoped>\n",
       "    .dataframe tbody tr th:only-of-type {\n",
       "        vertical-align: middle;\n",
       "    }\n",
       "\n",
       "    .dataframe tbody tr th {\n",
       "        vertical-align: top;\n",
       "    }\n",
       "\n",
       "    .dataframe thead th {\n",
       "        text-align: right;\n",
       "    }\n",
       "</style>\n",
       "<table border=\"1\" class=\"dataframe\">\n",
       "  <thead>\n",
       "    <tr style=\"text-align: right;\">\n",
       "      <th></th>\n",
       "      <th>dt</th>\n",
       "      <th>stamp</th>\n",
       "    </tr>\n",
       "  </thead>\n",
       "  <tbody>\n",
       "    <tr>\n",
       "      <th>0</th>\n",
       "      <td>2023-06-18</td>\n",
       "      <td>2023-06-18 15:43:14</td>\n",
       "    </tr>\n",
       "  </tbody>\n",
       "</table>\n",
       "</div>"
      ],
      "text/plain": [
       "           dt               stamp\n",
       "0  2023-06-18 2023-06-18 15:43:14"
      ]
     },
     "execution_count": 3,
     "metadata": {},
     "output_type": "execute_result"
    }
   ],
   "source": [
    "with pymysql.connect(database='webmarket', \n",
    "                     host='localhost', \n",
    "                     port=3306, \n",
    "                     user='root', \n",
    "                     password='****') as conn:\n",
    "  sql = \"\"\"SELECT\n",
    "        CURRENT_DATE AS dt,\n",
    "        CURRENT_TIMESTAMP AS stamp\n",
    "        \"\"\"\n",
    "  df_now = psql.read_sql(sql, conn)\n",
    "\n",
    "df_now"
   ]
  },
  {
   "cell_type": "code",
   "execution_count": 11,
   "id": "41167ed0",
   "metadata": {},
   "outputs": [
    {
     "name": "stdout",
     "output_type": "stream",
     "text": [
      "2023-06-18 15:45:56.088486\n",
      "2023-06-18\n",
      "2023\n",
      "6\n",
      "18\n",
      "15\n",
      "45\n",
      "56\n",
      "88666\n"
     ]
    }
   ],
   "source": [
    "# 모듈명 변경되어서 수정함 (datetime -> Timestamp)\n",
    "print (pd.Timestamp.now())\n",
    "print (pd.Timestamp.now().date())\n",
    "print (pd.Timestamp.now().year)\n",
    "print (pd.Timestamp.now().month)\n",
    "print (pd.Timestamp.now().day)\n",
    "print (pd.Timestamp.now().hour)\n",
    "print (pd.Timestamp.now().minute)\n",
    "print (pd.Timestamp.now().second)\n",
    "print (pd.Timestamp.now().microsecond)"
   ]
  },
  {
   "cell_type": "code",
   "execution_count": 13,
   "id": "1f577327",
   "metadata": {},
   "outputs": [
    {
     "data": {
      "text/html": [
       "<div>\n",
       "<style scoped>\n",
       "    .dataframe tbody tr th:only-of-type {\n",
       "        vertical-align: middle;\n",
       "    }\n",
       "\n",
       "    .dataframe tbody tr th {\n",
       "        vertical-align: top;\n",
       "    }\n",
       "\n",
       "    .dataframe thead th {\n",
       "        text-align: right;\n",
       "    }\n",
       "</style>\n",
       "<table border=\"1\" class=\"dataframe\">\n",
       "  <thead>\n",
       "    <tr style=\"text-align: right;\">\n",
       "      <th></th>\n",
       "      <th>dt</th>\n",
       "      <th>stamp</th>\n",
       "    </tr>\n",
       "  </thead>\n",
       "  <tbody>\n",
       "    <tr>\n",
       "      <th>0</th>\n",
       "      <td>2023-06-18</td>\n",
       "      <td>2023-06-18 15:46:14.018256</td>\n",
       "    </tr>\n",
       "  </tbody>\n",
       "</table>\n",
       "</div>"
      ],
      "text/plain": [
       "           dt                       stamp\n",
       "0  2023-06-18  2023-06-18 15:46:14.018256"
      ]
     },
     "execution_count": 13,
     "metadata": {},
     "output_type": "execute_result"
    }
   ],
   "source": [
    "df_now_pd = pd.DataFrame({\n",
    "    'dt': [str(pd.Timestamp.now().date())],\n",
    "    'stamp': [str(pd.Timestamp.now())]\n",
    "})\n",
    "df_now_pd"
   ]
  },
  {
   "cell_type": "code",
   "execution_count": null,
   "id": "116705bc",
   "metadata": {},
   "outputs": [],
   "source": []
  }
 ],
 "metadata": {
  "kernelspec": {
   "display_name": "Python 3 (ipykernel)",
   "language": "python",
   "name": "python3"
  },
  "language_info": {
   "codemirror_mode": {
    "name": "ipython",
    "version": 3
   },
   "file_extension": ".py",
   "mimetype": "text/x-python",
   "name": "python",
   "nbconvert_exporter": "python",
   "pygments_lexer": "ipython3",
   "version": "3.9.6"
  },
  "toc": {
   "base_numbering": 1,
   "nav_menu": {},
   "number_sections": true,
   "sideBar": true,
   "skip_h1_title": false,
   "title_cell": "Table of Contents",
   "title_sidebar": "Contents",
   "toc_cell": false,
   "toc_position": {},
   "toc_section_display": true,
   "toc_window_display": true
  }
 },
 "nbformat": 4,
 "nbformat_minor": 5
}
